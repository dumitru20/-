{
  "cells": [
    {
      "cell_type": "markdown",
      "metadata": {
        "id": "view-in-github",
        "colab_type": "text"
      },
      "source": [
        "<a href=\"https://colab.research.google.com/github/dumitru20/-/blob/main/Lab2_Internet_Meter_Data_Analysis_ipynb%22.ipynb\" target=\"_parent\"><img src=\"https://colab.research.google.com/assets/colab-badge.svg\" alt=\"Open In Colab\"/></a>"
      ]
    },
    {
      "cell_type": "markdown",
      "metadata": {
        "id": "7UR7w7h1cjz-"
      },
      "source": [
        "# Lab - Internet Meter Data Analysis"
      ]
    },
    {
      "cell_type": "markdown",
      "metadata": {
        "id": "n6CLzQ9scjz-"
      },
      "source": [
        "### Objectives\n",
        "<li>**Part 1: Collect and Store Data**</li>\n",
        "<li>**Part 2: Manipulate Data**</li>\n",
        "### Scenario/Background\n",
        "In this lab, you will acquire Internet speed statistics and store the live data in a comma separated values (csv) file. You will also load the stored data from the csv file to a Python data structure, the Pandas `DataFrame`, and use its functionalities to explore the data and manipulate it so that it is easily readable.\n",
        "### Required Resources\n",
        "* 1 PC with Internet access\n",
        "* Raspberry Pi version 2 or higher\n",
        "* Python libraries: datetime, csv, subprocess, pandas, numpy\n",
        "* Datafiles: rpi_data_long.csv"
      ]
    },
    {
      "cell_type": "markdown",
      "metadata": {
        "id": "CVJhm94scjz_"
      },
      "source": [
        "## Part 1: Collect and Store Data\n",
        "<p>The goal of this first part of the lab is to gather internet speed measurements through the Raspberry Pi. Three kinds of measurements will be collected:\n",
        "1. Ping speed\n",
        "2. Download speed\n",
        "3. Upload speed"
      ]
    },
    {
      "cell_type": "markdown",
      "metadata": {
        "id": "V1I1GCePcjz_"
      },
      "source": [
        "#### Step 1: Install Speedtest and Import Python Libraries.\n",
        "In this step, you will install Speedtest and import Python libraries.\n",
        "<p>Speedtest-cli is a Python script that measures the upload and download speed of your Internet connection. For more information about speedtest, go to https://github.com/sivel/speedtest-cli."
      ]
    },
    {
      "cell_type": "markdown",
      "metadata": {
        "id": "Pnf8CPAEcj0A"
      },
      "source": [
        "a) Install `speedtest-cli`."
      ]
    },
    {
      "cell_type": "code",
      "execution_count": null,
      "metadata": {
        "collapsed": true,
        "colab": {
          "base_uri": "https://localhost:8080/"
        },
        "id": "UVZSZF3Qcj0A",
        "outputId": "ab9a41b9-22f6-4f78-aa84-ec06669f1dc3"
      },
      "outputs": [
        {
          "output_type": "stream",
          "name": "stdout",
          "text": [
            "Collecting speedtest-cli\n",
            "  Downloading speedtest_cli-2.1.3-py2.py3-none-any.whl.metadata (6.8 kB)\n",
            "Downloading speedtest_cli-2.1.3-py2.py3-none-any.whl (23 kB)\n",
            "Installing collected packages: speedtest-cli\n",
            "Successfully installed speedtest-cli-2.1.3\n"
          ]
        }
      ],
      "source": [
        "# Code cell 1\n",
        "!pip install speedtest-cli"
      ]
    },
    {
      "cell_type": "markdown",
      "metadata": {
        "id": "jmDcPUgGcj0B"
      },
      "source": [
        "This cli allows the Jupyter notebook to connect to the website and store the data."
      ]
    },
    {
      "cell_type": "markdown",
      "metadata": {
        "id": "pQ4hEalrcj0B"
      },
      "source": [
        "b) Import the necessary Python libraries."
      ]
    },
    {
      "cell_type": "code",
      "execution_count": null,
      "metadata": {
        "collapsed": true,
        "id": "rVd0QY-vcj0C"
      },
      "outputs": [],
      "source": [
        "# Code cell 2\n",
        "# Python library to manage date and time data\n",
        "import datetime\n",
        "# Python library to read and write csv files\n",
        "import csv\n",
        "# Python library to execute bash commands from the notebook.\n",
        "# If you want to know more about this, check this resource:\n",
        "# http://www.pythonforbeginners.com/os/subprocess-for-system-administrators\n",
        "import subprocess"
      ]
    },
    {
      "cell_type": "markdown",
      "metadata": {
        "id": "OBuXLpO8cj0C"
      },
      "source": [
        "#### Step 2: Generate timestamps using the `datetime` package.\n",
        "In this lab, measurements of Internet speed statistics will be generated. A crucial step in data acquisition for the majority of data analytics applications, is to associate a timestamp to measurements."
      ]
    },
    {
      "cell_type": "markdown",
      "metadata": {
        "id": "mJLhDa4Hcj0C"
      },
      "source": [
        "a) To generate a timestamp, use the `datetime.now` function of the `datetime` package:"
      ]
    },
    {
      "cell_type": "code",
      "execution_count": null,
      "metadata": {
        "collapsed": true,
        "colab": {
          "base_uri": "https://localhost:8080/"
        },
        "id": "WD1oQHSUcj0C",
        "outputId": "68d46226-56fc-4275-87c7-c0d9e1acdc6c"
      },
      "outputs": [
        {
          "output_type": "stream",
          "name": "stdout",
          "text": [
            "2025-02-21 12:26:32.717202 <class 'datetime.datetime'>\n"
          ]
        }
      ],
      "source": [
        "# Code cell 3\n",
        "date_time = datetime.datetime.now()\n",
        "print(date_time, type(date_time))"
      ]
    },
    {
      "cell_type": "markdown",
      "metadata": {
        "id": "MSPrj5VLcj0D"
      },
      "source": [
        "b) An instance of the class `datetime` cannot be directly written to in text form. The function `strftime` parses the date information into a string. The arguments of this function determine the format of the output sting. A description of these parameters can be found in the documentation of the `strftime` function at https://docs.python.org/2/library/time.html."
      ]
    },
    {
      "cell_type": "code",
      "execution_count": null,
      "metadata": {
        "collapsed": true,
        "colab": {
          "base_uri": "https://localhost:8080/",
          "height": 35
        },
        "id": "JeCwGwT4cj0D",
        "outputId": "1a445c8b-22f5-4c05-acf7-e28de2346733"
      },
      "outputs": [
        {
          "output_type": "execute_result",
          "data": {
            "text/plain": [
              "'Fri, 21 Feb 2025 12:26:32'"
            ],
            "application/vnd.google.colaboratory.intrinsic+json": {
              "type": "string"
            }
          },
          "metadata": {},
          "execution_count": 9
        }
      ],
      "source": [
        "# Code cell 4\n",
        "date_time.strftime('%a, %d %b %Y %H:%M:%S')"
      ]
    },
    {
      "cell_type": "markdown",
      "metadata": {
        "id": "mSH_iI0Vcj0D"
      },
      "source": [
        "After reading the documentation of the `strftime` function, generate a timestamp and parse it into a string with the following format: YYYY-MM-DD HH:MM:SS."
      ]
    },
    {
      "cell_type": "code",
      "execution_count": null,
      "metadata": {
        "collapsed": true,
        "colab": {
          "base_uri": "https://localhost:8080/",
          "height": 35
        },
        "id": "GFW16rcCcj0E",
        "outputId": "961a2ae1-c10a-460f-ecd5-07b16fd53cde"
      },
      "outputs": [
        {
          "output_type": "execute_result",
          "data": {
            "text/plain": [
              "' 2025-02-21 12:26:32'"
            ],
            "application/vnd.google.colaboratory.intrinsic+json": {
              "type": "string"
            }
          },
          "metadata": {},
          "execution_count": 11
        }
      ],
      "source": [
        "# Code cell 5\n",
        "date_time.strftime(' %Y-%m-%d %H:%M:%S')\n"
      ]
    },
    {
      "cell_type": "markdown",
      "metadata": {
        "id": "Ne-ykwdHcj0E"
      },
      "source": [
        "#### Step 3: Run the process and collect the output with Python.\n",
        "\n",
        "The `speedtest-cli` command, if run from a terminal, returns a string with download and upload speeds. To run the command from this notebook, it is necessary to use the Python module `subprocess`, which allows running a process directly from the notebook code cell."
      ]
    },
    {
      "cell_type": "markdown",
      "metadata": {
        "id": "opxtEBlMcj0E"
      },
      "source": [
        "a) Run a speed test using the `speedtest-cli` command from Python. The output will be stored in the process_output variable."
      ]
    },
    {
      "cell_type": "code",
      "execution_count": null,
      "metadata": {
        "collapsed": true,
        "id": "tzXtYLzFcj0E"
      },
      "outputs": [],
      "source": [
        "# Code cell 6\n",
        "# This string contains the command line to interface with speedtest.net\n",
        "speedtest_cmd = \"speedtest-cli --simple\"\n",
        "# Execute the process\n",
        "process = subprocess.Popen(speedtest_cmd.split(), stdout=subprocess.PIPE)\n",
        "# Collect the command output\n",
        "process_output = process.communicate()[0]"
      ]
    },
    {
      "cell_type": "markdown",
      "metadata": {
        "id": "VNdsZHgccj0E"
      },
      "source": [
        "b) Print the process output. Notice the type for the `process_output` variable."
      ]
    },
    {
      "cell_type": "code",
      "execution_count": null,
      "metadata": {
        "collapsed": true,
        "colab": {
          "base_uri": "https://localhost:8080/"
        },
        "id": "cZGF8PQkcj0F",
        "outputId": "1be08997-eaa8-4b77-e42f-5f7c96b4520a"
      },
      "outputs": [
        {
          "output_type": "stream",
          "name": "stdout",
          "text": [
            "b'Ping: 18.5 ms\\nDownload: 2676.64 Mbit/s\\nUpload: 569.99 Mbit/s\\n' <class 'bytes'>\n"
          ]
        }
      ],
      "source": [
        "# Code cell 7\n",
        "print(process_output, type(process_output))"
      ]
    },
    {
      "cell_type": "markdown",
      "metadata": {
        "id": "yd0ZCEbEcj0F"
      },
      "source": [
        "c) The speed test result is split, and a timestamp is appended to the results."
      ]
    },
    {
      "cell_type": "code",
      "execution_count": null,
      "metadata": {
        "collapsed": true,
        "colab": {
          "base_uri": "https://localhost:8080/"
        },
        "id": "fdGdp1yycj0F",
        "outputId": "60c9a5b8-3b28-4cc9-d8a1-fc8d25edfe05"
      },
      "outputs": [
        {
          "output_type": "stream",
          "name": "stdout",
          "text": [
            "[b'Ping:', b'18.5', b'ms', b'Download:', b'2676.64', b'Mbit/s', b'Upload:', b'569.99', b'Mbit/s', '2025-02-21 12:28:13'] <class 'list'>\n"
          ]
        }
      ],
      "source": [
        "# Code cell 8\n",
        "# Store the time at which the speedtest was executed\n",
        "date_time = datetime.datetime.now().strftime(\"%Y-%m-%d %H:%M:%S\")\n",
        "process_output = process_output.split()\n",
        "process_output.append(date_time)\n",
        "print(process_output, type(process_output))"
      ]
    },
    {
      "cell_type": "markdown",
      "metadata": {
        "id": "FVMIlx0Ccj0F"
      },
      "source": [
        "d) The speedtest() function is created to return the results from the speedtest-cli command."
      ]
    },
    {
      "cell_type": "code",
      "execution_count": null,
      "metadata": {
        "collapsed": true,
        "id": "fmAV7v2Jcj0F"
      },
      "outputs": [],
      "source": [
        "# Code cell 9\n",
        "# function to excute the speed test\n",
        "def speedtest():\n",
        "    # We need to store the time at which the speedtest was executed\n",
        "    date_time = datetime.datetime.now().strftime(\"%Y-%m-%d %H:%M:%S\")\n",
        "    # This is a string that contains what we would write on the command line\n",
        "    #to interface with speedtest.net\n",
        "    speedtest_cmd = \"speedtest-cli --simple\"\n",
        "    # We now execute the process:\n",
        "    process = subprocess.Popen(speedtest_cmd.split(), stdout=subprocess.PIPE)\n",
        "    process_output = process.communicate()[0]\n",
        "    process_output = process_output.split()\n",
        "    # and we add the date and time\n",
        "    process_output.append(date_time)\n",
        "    return process_output"
      ]
    },
    {
      "cell_type": "markdown",
      "metadata": {
        "id": "MfuofKxxcj0F"
      },
      "source": [
        "What does the speedtest() function return? What is the code to view results from the speedtest() function?"
      ]
    },
    {
      "cell_type": "markdown",
      "metadata": {
        "id": "7dDksnt2cj0G"
      },
      "source": []
    },
    {
      "cell_type": "code",
      "execution_count": null,
      "metadata": {
        "collapsed": true,
        "colab": {
          "base_uri": "https://localhost:8080/"
        },
        "id": "LxduL_uLcj0G",
        "outputId": "c03c5b49-de9d-45f0-d8e8-2487a23b5abd"
      },
      "outputs": [
        {
          "output_type": "stream",
          "name": "stdout",
          "text": [
            "[b'Ping:', b'8.715', b'ms', b'Download:', b'1766.23', b'Mbit/s', b'Upload:', b'819.61', b'Mbit/s', '2025-02-21 12:29:15']\n"
          ]
        }
      ],
      "source": [
        "# Code cell 10\n",
        "print(speedtest())\n"
      ]
    },
    {
      "cell_type": "markdown",
      "metadata": {
        "id": "3EnLe4WMcj0G"
      },
      "source": [
        "#### Step 4: Store the output of the `speedtest()` function.\n",
        "\n",
        "The comma separated values (csv) is the most common import and export format for spreadsheets and databases. To learn more information about working with csv in Python, navigate to https://docs.python.org/2/library/csv.html."
      ]
    },
    {
      "cell_type": "markdown",
      "metadata": {
        "id": "k4ZVkCfocj0G"
      },
      "source": [
        "a) Create a file named test.txt in the /tmp directory and write \"test_msg\" in the file."
      ]
    },
    {
      "cell_type": "code",
      "execution_count": null,
      "metadata": {
        "collapsed": true,
        "id": "tvf7M9vjcj0G"
      },
      "outputs": [],
      "source": [
        "# Code cell 11\n",
        "with open(\"/tmp/test.txt\",'w') as f:\n",
        "    f.write('test_msg')"
      ]
    },
    {
      "cell_type": "markdown",
      "metadata": {
        "id": "16WtOCKNcj0H"
      },
      "source": [
        "b) Use the Linux command `cat` to verify the creation and content of the file."
      ]
    },
    {
      "cell_type": "code",
      "execution_count": null,
      "metadata": {
        "collapsed": true,
        "colab": {
          "base_uri": "https://localhost:8080/"
        },
        "id": "YAQ1i1VAcj0H",
        "outputId": "1977e15e-66dd-4a40-ca0a-0899b3aab0e0"
      },
      "outputs": [
        {
          "output_type": "stream",
          "name": "stdout",
          "text": [
            "test_msg"
          ]
        }
      ],
      "source": [
        "# Code cell 12\n",
        "!cat /tmp/test.txt"
      ]
    },
    {
      "cell_type": "markdown",
      "metadata": {
        "id": "kvFnoLmNcj0H"
      },
      "source": [
        "c) To check that the file was successfully open:"
      ]
    },
    {
      "cell_type": "code",
      "execution_count": null,
      "metadata": {
        "collapsed": true,
        "colab": {
          "base_uri": "https://localhost:8080/"
        },
        "id": "aAX5zHxAcj0H",
        "outputId": "d02ab01f-df82-4454-d974-f70623d84eee"
      },
      "outputs": [
        {
          "output_type": "stream",
          "name": "stdout",
          "text": [
            "test_msg\n"
          ]
        }
      ],
      "source": [
        "# Code cell 13\n",
        "with open(\"/tmp/test.txt\",'r') as f:\n",
        "   str = f.read()\n",
        "print(str)"
      ]
    },
    {
      "cell_type": "markdown",
      "metadata": {
        "id": "EHJnsD01cj0I"
      },
      "source": [
        "d) Understanding the meaning of the `with` statement, especially in combination with `try` and `except` is not required for the rest of this lab, but a useful resource about this is http://effbot.org/zone/python-with-statement.htm.\n",
        "<p>\n",
        "To write into a `csv` file, it is necessary to create a `csv.writer` object. Check https://docs.python.org/2/library/csv.html and find out which function of the 'csv.writer' object can be used to add a row to a `csv` file."
      ]
    },
    {
      "cell_type": "code",
      "execution_count": null,
      "metadata": {
        "collapsed": true,
        "id": "n2IgISjXcj0I"
      },
      "outputs": [],
      "source": [
        "# Code cell 14\n",
        "# function to save data to csv\n",
        "def save_to_csv(data, filename):\n",
        "    try:\n",
        "        # If the file exists, we want to append a new line to it, with the\n",
        "        #results of the current experiment\n",
        "        with open(filename + '.csv', 'a') as f:\n",
        "            wr = csv.writer(f)\n",
        "            wr.writerow(data)\n",
        "    except:\n",
        "        # If it does not exist, create the file first\n",
        "        with open(filename + '.csv', 'w') as f:\n",
        "            # Hint: This is similar to appending new lines to a file.\n",
        "            # Create a csv writer object\n",
        "            wr = csv.writer(f)\n",
        "            # Save (write) to file\n",
        "            wr.writerow(data)"
      ]
    },
    {
      "cell_type": "markdown",
      "metadata": {
        "id": "G4D43Jgccj0I"
      },
      "source": [
        "#### Step 5: Check the collected data.\n",
        "Write a function to open a csv file and print its content to screen. You can find an example in the 13.1.5 section of https://docs.python.org/2/library/csv.html"
      ]
    },
    {
      "cell_type": "code",
      "execution_count": null,
      "metadata": {
        "collapsed": true,
        "id": "RkJ96Ygecj0J"
      },
      "outputs": [],
      "source": [
        "# Code cell 15\n",
        "def print_from_csv(filename):\n",
        "    with open(filename + '.csv', 'r') as f:\n",
        "      re = csv.reader(f)\n",
        "      for row in re:\n",
        "        print (', '.join(row))"
      ]
    },
    {
      "cell_type": "markdown",
      "metadata": {
        "id": "fE5tNMnqcj0J"
      },
      "source": [
        "Now, all the functions needed to collect and store Internet speed data are finished.\n",
        "#### Step 6: Run the Speedtest multiple times and store the data.\n",
        "a) Write a `for` loop that calls the speedtest 5 times, prints the output of the tests, and stores the data in a csv file."
      ]
    },
    {
      "cell_type": "code",
      "execution_count": null,
      "metadata": {
        "collapsed": true,
        "colab": {
          "base_uri": "https://localhost:8080/"
        },
        "id": "f6xL-xZzcj0K",
        "outputId": "3a5d22ca-ccf4-41c1-ec52-8b98e839bddb"
      },
      "outputs": [
        {
          "output_type": "stream",
          "name": "stdout",
          "text": [
            "Test number 0\n",
            "[b'Ping:', b'11.227', b'ms', b'Download:', b'1792.85', b'Mbit/s', b'Upload:', b'719.41', b'Mbit/s', '2025-02-21 12:39:51']\n",
            "Test number 1\n",
            "[b'Ping:', b'8.502', b'ms', b'Download:', b'1988.10', b'Mbit/s', b'Upload:', b'686.84', b'Mbit/s', '2025-02-21 12:39:56']\n",
            "Test number 2\n",
            "[b'Ping:', b'9.101', b'ms', b'Download:', b'1833.12', b'Mbit/s', b'Upload:', b'600.87', b'Mbit/s', '2025-02-21 12:40:00']\n",
            "Test number 3\n",
            "[b'Ping:', b'8.311', b'ms', b'Download:', b'1340.09', b'Mbit/s', b'Upload:', b'626.60', b'Mbit/s', '2025-02-21 12:40:05']\n",
            "Test number 4\n",
            "[b'Ping:', b'8.279', b'ms', b'Download:', b'1872.06', b'Mbit/s', b'Upload:', b'741.91', b'Mbit/s', '2025-02-21 12:40:11']\n"
          ]
        }
      ],
      "source": [
        "# Code cell 16\n",
        "for i in range(5):\n",
        "    speedtest_output = speedtest()\n",
        "    print('Test number {}'.format(i))\n",
        "    print(speedtest_output)\n",
        "    save_to_csv(speedtest_output, '/tmp/rpi_data_test')\n"
      ]
    },
    {
      "cell_type": "markdown",
      "metadata": {
        "id": "aY9_FxkPcj0K"
      },
      "source": [
        "b) Display the file to verify that the data has been saved correctly."
      ]
    },
    {
      "cell_type": "code",
      "execution_count": null,
      "metadata": {
        "collapsed": true,
        "colab": {
          "base_uri": "https://localhost:8080/"
        },
        "id": "jXsANqhYcj0K",
        "outputId": "c31610ed-7184-4e42-9cd1-a2cd1bd572ec"
      },
      "outputs": [
        {
          "output_type": "stream",
          "name": "stdout",
          "text": [
            "b'Ping:', b'11.227', b'ms', b'Download:', b'1792.85', b'Mbit/s', b'Upload:', b'719.41', b'Mbit/s', 2025-02-21 12:39:51\n",
            "b'Ping:', b'8.502', b'ms', b'Download:', b'1988.10', b'Mbit/s', b'Upload:', b'686.84', b'Mbit/s', 2025-02-21 12:39:56\n",
            "b'Ping:', b'9.101', b'ms', b'Download:', b'1833.12', b'Mbit/s', b'Upload:', b'600.87', b'Mbit/s', 2025-02-21 12:40:00\n",
            "b'Ping:', b'8.311', b'ms', b'Download:', b'1340.09', b'Mbit/s', b'Upload:', b'626.60', b'Mbit/s', 2025-02-21 12:40:05\n",
            "b'Ping:', b'8.279', b'ms', b'Download:', b'1872.06', b'Mbit/s', b'Upload:', b'741.91', b'Mbit/s', 2025-02-21 12:40:11\n"
          ]
        }
      ],
      "source": [
        "# Code cell 17\n",
        "print_from_csv('/tmp/rpi_data_test')\n"
      ]
    },
    {
      "cell_type": "markdown",
      "metadata": {
        "id": "kHwciRNHcj0L"
      },
      "source": [
        "If a bigger dataset is needed, the speedtest can be running in the background for more samples.\n",
        "\n",
        "How would you change the code if you wanted to run the code 100 times?"
      ]
    },
    {
      "cell_type": "markdown",
      "metadata": {
        "collapsed": true,
        "id": "t3YkdH3Ycj0L"
      },
      "source": []
    },
    {
      "cell_type": "code",
      "execution_count": null,
      "metadata": {
        "collapsed": true,
        "colab": {
          "base_uri": "https://localhost:8080/"
        },
        "id": "K-qCIhWBcj0L",
        "outputId": "fc8716e7-f713-4422-9124-0d7a7d39148c"
      },
      "outputs": [
        {
          "output_type": "stream",
          "name": "stdout",
          "text": [
            "Test number: 0\n",
            "[b'Ping:', b'10.159', b'ms', b'Download:', b'1838.33', b'Mbit/s', b'Upload:', b'770.47', b'Mbit/s', '2025-02-21 12:41:33']\n",
            "Test number: 1\n",
            "[b'Ping:', b'7.587', b'ms', b'Download:', b'1792.44', b'Mbit/s', b'Upload:', b'792.21', b'Mbit/s', '2025-02-21 12:41:38']\n",
            "Test number: 2\n",
            "[b'Ping:', b'7.851', b'ms', b'Download:', b'1915.26', b'Mbit/s', b'Upload:', b'784.59', b'Mbit/s', '2025-02-21 12:41:43']\n",
            "Test number: 3\n",
            "[b'Ping:', b'8.571', b'ms', b'Download:', b'1932.23', b'Mbit/s', b'Upload:', b'790.39', b'Mbit/s', '2025-02-21 12:41:47']\n",
            "Test number: 4\n",
            "[b'Ping:', b'8.358', b'ms', b'Download:', b'1971.82', b'Mbit/s', b'Upload:', b'689.06', b'Mbit/s', '2025-02-21 12:41:51']\n",
            "Test number: 5\n",
            "[b'Ping:', b'8.246', b'ms', b'Download:', b'1745.88', b'Mbit/s', b'Upload:', b'617.10', b'Mbit/s', '2025-02-21 12:41:56']\n",
            "Test number: 6\n",
            "[b'Ping:', b'9.083', b'ms', b'Download:', b'2021.86', b'Mbit/s', b'Upload:', b'512.87', b'Mbit/s', '2025-02-21 12:42:01']\n",
            "Test number: 7\n",
            "[b'Ping:', b'8.287', b'ms', b'Download:', b'1648.97', b'Mbit/s', b'Upload:', b'761.57', b'Mbit/s', '2025-02-21 12:42:06']\n",
            "Test number: 8\n",
            "[b'Ping:', b'7.526', b'ms', b'Download:', b'1794.46', b'Mbit/s', b'Upload:', b'780.14', b'Mbit/s', '2025-02-21 12:42:11']\n",
            "Test number: 9\n",
            "[b'Ping:', b'7.87', b'ms', b'Download:', b'1875.27', b'Mbit/s', b'Upload:', b'696.11', b'Mbit/s', '2025-02-21 12:42:16']\n",
            "Test number: 10\n",
            "[b'Ping:', b'8.074', b'ms', b'Download:', b'1953.73', b'Mbit/s', b'Upload:', b'734.62', b'Mbit/s', '2025-02-21 12:42:22']\n",
            "Test number: 11\n",
            "[b'Ping:', b'8.129', b'ms', b'Download:', b'2014.59', b'Mbit/s', b'Upload:', b'755.11', b'Mbit/s', '2025-02-21 12:42:26']\n",
            "Test number: 12\n",
            "[b'Ping:', b'8.299', b'ms', b'Download:', b'1982.11', b'Mbit/s', b'Upload:', b'504.49', b'Mbit/s', '2025-02-21 12:42:31']\n",
            "Test number: 13\n",
            "[b'Ping:', b'8.201', b'ms', b'Download:', b'1865.77', b'Mbit/s', b'Upload:', b'718.94', b'Mbit/s', '2025-02-21 12:42:36']\n",
            "Test number: 14\n",
            "[b'Ping:', b'8.049', b'ms', b'Download:', b'1839.15', b'Mbit/s', b'Upload:', b'850.32', b'Mbit/s', '2025-02-21 12:42:40']\n",
            "Test number: 15\n",
            "[b'Ping:', b'8.279', b'ms', b'Download:', b'2021.08', b'Mbit/s', b'Upload:', b'785.76', b'Mbit/s', '2025-02-21 12:42:45']\n",
            "Test number: 16\n",
            "[b'Ping:', b'7.127', b'ms', b'Download:', b'2206.87', b'Mbit/s', b'Upload:', b'693.60', b'Mbit/s', '2025-02-21 12:42:49']\n",
            "Test number: 17\n",
            "[b'Ping:', b'8.453', b'ms', b'Download:', b'1299.99', b'Mbit/s', b'Upload:', b'795.67', b'Mbit/s', '2025-02-21 12:42:53']\n",
            "Test number: 18\n",
            "[b'Ping:', b'7.6', b'ms', b'Download:', b'2013.86', b'Mbit/s', b'Upload:', b'820.07', b'Mbit/s', '2025-02-21 12:42:59']\n",
            "Test number: 19\n",
            "[b'Ping:', b'8.143', b'ms', b'Download:', b'1971.32', b'Mbit/s', b'Upload:', b'481.58', b'Mbit/s', '2025-02-21 12:43:03']\n",
            "Test number: 20\n",
            "[b'Ping:', b'8.475', b'ms', b'Download:', b'2075.61', b'Mbit/s', b'Upload:', b'749.42', b'Mbit/s', '2025-02-21 12:43:08']\n",
            "Test number: 21\n",
            "[b'Ping:', b'7.106', b'ms', b'Download:', b'1836.90', b'Mbit/s', b'Upload:', b'802.48', b'Mbit/s', '2025-02-21 12:43:13']\n",
            "Test number: 22\n",
            "[b'Ping:', b'7.886', b'ms', b'Download:', b'1772.39', b'Mbit/s', b'Upload:', b'645.29', b'Mbit/s', '2025-02-21 12:43:17']\n",
            "Test number: 23\n",
            "[b'Ping:', b'8.072', b'ms', b'Download:', b'1965.47', b'Mbit/s', b'Upload:', b'727.51', b'Mbit/s', '2025-02-21 12:43:22']\n",
            "Test number: 24\n",
            "[b'Ping:', b'8.378', b'ms', b'Download:', b'2060.53', b'Mbit/s', b'Upload:', b'821.39', b'Mbit/s', '2025-02-21 12:43:26']\n",
            "Test number: 25\n",
            "[b'Ping:', b'7.972', b'ms', b'Download:', b'1921.34', b'Mbit/s', b'Upload:', b'837.59', b'Mbit/s', '2025-02-21 12:43:30']\n",
            "Test number: 26\n",
            "[b'Ping:', b'9.451', b'ms', b'Download:', b'3479.20', b'Mbit/s', b'Upload:', b'734.90', b'Mbit/s', '2025-02-21 12:43:34']\n",
            "Test number: 27\n",
            "[b'Ping:', b'9.222', b'ms', b'Download:', b'2061.26', b'Mbit/s', b'Upload:', b'659.14', b'Mbit/s', '2025-02-21 12:43:38']\n",
            "Test number: 28\n",
            "[b'Ping:', b'8.336', b'ms', b'Download:', b'1081.98', b'Mbit/s', b'Upload:', b'799.19', b'Mbit/s', '2025-02-21 12:43:43']\n",
            "Test number: 29\n",
            "[b'Ping:', b'8.165', b'ms', b'Download:', b'2087.17', b'Mbit/s', b'Upload:', b'759.17', b'Mbit/s', '2025-02-21 12:43:48']\n",
            "Test number: 30\n",
            "[b'Ping:', b'7.977', b'ms', b'Download:', b'1933.30', b'Mbit/s', b'Upload:', b'735.51', b'Mbit/s', '2025-02-21 12:43:53']\n",
            "Test number: 31\n",
            "[b'Ping:', b'8.588', b'ms', b'Download:', b'1918.85', b'Mbit/s', b'Upload:', b'762.53', b'Mbit/s', '2025-02-21 12:43:57']\n",
            "Test number: 32\n",
            "[b'Ping:', b'8.776', b'ms', b'Download:', b'3101.04', b'Mbit/s', b'Upload:', b'728.30', b'Mbit/s', '2025-02-21 12:44:02']\n",
            "Test number: 33\n",
            "[b'Ping:', b'9.664', b'ms', b'Download:', b'2637.89', b'Mbit/s', b'Upload:', b'734.39', b'Mbit/s', '2025-02-21 12:44:05']\n",
            "Test number: 34\n",
            "[b'Ping:', b'8.632', b'ms', b'Download:', b'2010.20', b'Mbit/s', b'Upload:', b'753.05', b'Mbit/s', '2025-02-21 12:44:10']\n",
            "Test number: 35\n",
            "[b'Ping:', b'8.936', b'ms', b'Download:', b'1891.20', b'Mbit/s', b'Upload:', b'796.09', b'Mbit/s', '2025-02-21 12:44:14']\n",
            "Test number: 36\n",
            "[b'Ping:', b'8.493', b'ms', b'Download:', b'2147.99', b'Mbit/s', b'Upload:', b'800.26', b'Mbit/s', '2025-02-21 12:44:18']\n",
            "Test number: 37\n",
            "[b'Ping:', b'8.564', b'ms', b'Download:', b'1916.44', b'Mbit/s', b'Upload:', b'797.01', b'Mbit/s', '2025-02-21 12:44:23']\n",
            "Test number: 38\n",
            "[b'Ping:', b'7.774', b'ms', b'Download:', b'2088.59', b'Mbit/s', b'Upload:', b'754.61', b'Mbit/s', '2025-02-21 12:44:27']\n",
            "Test number: 39\n",
            "[b'Ping:', b'7.966', b'ms', b'Download:', b'1944.76', b'Mbit/s', b'Upload:', b'822.00', b'Mbit/s', '2025-02-21 12:44:31']\n",
            "Test number: 40\n",
            "[b'Ping:', b'9.944', b'ms', b'Download:', b'1948.19', b'Mbit/s', b'Upload:', b'809.52', b'Mbit/s', '2025-02-21 12:44:35']\n",
            "Test number: 41\n",
            "[b'Ping:', b'8.386', b'ms', b'Download:', b'1190.18', b'Mbit/s', b'Upload:', b'752.29', b'Mbit/s', '2025-02-21 12:44:40']\n",
            "Test number: 42\n",
            "[b'Ping:', b'8.578', b'ms', b'Download:', b'2124.09', b'Mbit/s', b'Upload:', b'799.34', b'Mbit/s', '2025-02-21 12:44:45']\n",
            "Test number: 43\n",
            "[b'Ping:', b'8.063', b'ms', b'Download:', b'1968.62', b'Mbit/s', b'Upload:', b'666.71', b'Mbit/s', '2025-02-21 12:44:49']\n",
            "Test number: 44\n",
            "[b'Ping:', b'9.68', b'ms', b'Download:', b'1834.56', b'Mbit/s', b'Upload:', b'675.16', b'Mbit/s', '2025-02-21 12:44:54']\n",
            "Test number: 45\n",
            "[b'Ping:', b'8.591', b'ms', b'Download:', b'2005.40', b'Mbit/s', b'Upload:', b'696.08', b'Mbit/s', '2025-02-21 12:44:59']\n",
            "Test number: 46\n",
            "[b'Ping:', b'8.351', b'ms', b'Download:', b'1875.99', b'Mbit/s', b'Upload:', b'688.45', b'Mbit/s', '2025-02-21 12:45:03']\n",
            "Test number: 47\n",
            "[b'Ping:', b'8.355', b'ms', b'Download:', b'1748.68', b'Mbit/s', b'Upload:', b'762.67', b'Mbit/s', '2025-02-21 12:45:08']\n",
            "Test number: 48\n",
            "[b'Ping:', b'7.59', b'ms', b'Download:', b'2034.91', b'Mbit/s', b'Upload:', b'582.87', b'Mbit/s', '2025-02-21 12:45:12']\n",
            "Test number: 49\n",
            "[b'Ping:', b'7.712', b'ms', b'Download:', b'919.05', b'Mbit/s', b'Upload:', b'618.84', b'Mbit/s', '2025-02-21 12:45:17']\n",
            "Test number: 50\n",
            "[b'Ping:', b'8.792', b'ms', b'Download:', b'1994.50', b'Mbit/s', b'Upload:', b'695.61', b'Mbit/s', '2025-02-21 12:45:24']\n",
            "Test number: 51\n",
            "[b'Ping:', b'8.584', b'ms', b'Download:', b'1897.19', b'Mbit/s', b'Upload:', b'658.42', b'Mbit/s', '2025-02-21 12:45:29']\n",
            "Test number: 52\n",
            "[b'Ping:', b'8.33', b'ms', b'Download:', b'1760.21', b'Mbit/s', b'Upload:', b'802.47', b'Mbit/s', '2025-02-21 12:45:33']\n",
            "Test number: 53\n",
            "[b'Ping:', b'8.515', b'ms', b'Download:', b'1912.14', b'Mbit/s', b'Upload:', b'653.45', b'Mbit/s', '2025-02-21 12:45:38']\n",
            "Test number: 54\n",
            "[b'Ping:', b'8.582', b'ms', b'Download:', b'1782.79', b'Mbit/s', b'Upload:', b'716.58', b'Mbit/s', '2025-02-21 12:45:43']\n",
            "Test number: 55\n",
            "[b'Ping:', b'7.483', b'ms', b'Download:', b'1939.29', b'Mbit/s', b'Upload:', b'693.46', b'Mbit/s', '2025-02-21 12:45:47']\n",
            "Test number: 56\n",
            "[b'Ping:', b'7.925', b'ms', b'Download:', b'1248.60', b'Mbit/s', b'Upload:', b'615.34', b'Mbit/s', '2025-02-21 12:45:52']\n",
            "Test number: 57\n",
            "[b'Ping:', b'7.822', b'ms', b'Download:', b'1921.40', b'Mbit/s', b'Upload:', b'720.29', b'Mbit/s', '2025-02-21 12:45:58']\n",
            "Test number: 58\n",
            "[b'Ping:', b'7.256', b'ms', b'Download:', b'1320.46', b'Mbit/s', b'Upload:', b'772.27', b'Mbit/s', '2025-02-21 12:46:02']\n",
            "Test number: 59\n",
            "[b'Ping:', b'8.27', b'ms', b'Download:', b'1776.85', b'Mbit/s', b'Upload:', b'726.18', b'Mbit/s', '2025-02-21 12:46:07']\n",
            "Test number: 60\n",
            "[b'Ping:', b'8.78', b'ms', b'Download:', b'1910.48', b'Mbit/s', b'Upload:', b'767.44', b'Mbit/s', '2025-02-21 12:46:12']\n",
            "Test number: 61\n",
            "[b'Ping:', b'8.13', b'ms', b'Download:', b'2016.98', b'Mbit/s', b'Upload:', b'721.49', b'Mbit/s', '2025-02-21 12:46:16']\n",
            "Test number: 62\n",
            "[b'Ping:', b'8.258', b'ms', b'Download:', b'1911.31', b'Mbit/s', b'Upload:', b'785.14', b'Mbit/s', '2025-02-21 12:46:21']\n",
            "Test number: 63\n",
            "[b'Ping:', b'9.078', b'ms', b'Download:', b'1714.07', b'Mbit/s', b'Upload:', b'715.44', b'Mbit/s', '2025-02-21 12:46:25']\n",
            "Test number: 64\n",
            "[b'Ping:', b'7.77', b'ms', b'Download:', b'2006.23', b'Mbit/s', b'Upload:', b'742.26', b'Mbit/s', '2025-02-21 12:46:30']\n",
            "Test number: 65\n",
            "[b'Ping:', b'8.21', b'ms', b'Download:', b'1956.15', b'Mbit/s', b'Upload:', b'629.00', b'Mbit/s', '2025-02-21 12:46:34']\n",
            "Test number: 66\n",
            "[b'Ping:', b'9.225', b'ms', b'Download:', b'1846.69', b'Mbit/s', b'Upload:', b'723.99', b'Mbit/s', '2025-02-21 12:46:39']\n",
            "Test number: 67\n",
            "[b'Ping:', b'8.091', b'ms', b'Download:', b'2260.14', b'Mbit/s', b'Upload:', b'701.89', b'Mbit/s', '2025-02-21 12:46:43']\n",
            "Test number: 68\n",
            "[b'Ping:', b'7.443', b'ms', b'Download:', b'1942.72', b'Mbit/s', b'Upload:', b'753.75', b'Mbit/s', '2025-02-21 12:46:48']\n",
            "Test number: 69\n",
            "[b'Ping:', b'8.139', b'ms', b'Download:', b'1829.18', b'Mbit/s', b'Upload:', b'769.53', b'Mbit/s', '2025-02-21 12:46:52']\n",
            "Test number: 70\n",
            "[b'Ping:', b'7.968', b'ms', b'Download:', b'1932.10', b'Mbit/s', b'Upload:', b'798.41', b'Mbit/s', '2025-02-21 12:46:57']\n",
            "Test number: 71\n",
            "[b'Ping:', b'8.169', b'ms', b'Download:', b'1976.90', b'Mbit/s', b'Upload:', b'768.88', b'Mbit/s', '2025-02-21 12:47:01']\n",
            "Test number: 72\n",
            "[b'Ping:', b'7.954', b'ms', b'Download:', b'1770.04', b'Mbit/s', b'Upload:', b'730.99', b'Mbit/s', '2025-02-21 12:47:05']\n",
            "Test number: 73\n",
            "[b'Ping:', b'8.584', b'ms', b'Download:', b'1772.94', b'Mbit/s', b'Upload:', b'784.66', b'Mbit/s', '2025-02-21 12:47:10']\n",
            "Test number: 74\n",
            "[b'Ping:', b'7.464', b'ms', b'Download:', b'1738.35', b'Mbit/s', b'Upload:', b'755.66', b'Mbit/s', '2025-02-21 12:47:15']\n",
            "Test number: 75\n",
            "[b'Ping:', b'7.496', b'ms', b'Download:', b'1844.23', b'Mbit/s', b'Upload:', b'735.28', b'Mbit/s', '2025-02-21 12:47:19']\n",
            "Test number: 76\n",
            "[b'Ping:', b'8.387', b'ms', b'Download:', b'1870.52', b'Mbit/s', b'Upload:', b'768.99', b'Mbit/s', '2025-02-21 12:47:24']\n",
            "Test number: 77\n",
            "[b'Ping:', b'7.88', b'ms', b'Download:', b'2017.36', b'Mbit/s', b'Upload:', b'701.09', b'Mbit/s', '2025-02-21 12:47:28']\n",
            "Test number: 78\n",
            "[b'Ping:', b'7.515', b'ms', b'Download:', b'1954.16', b'Mbit/s', b'Upload:', b'719.69', b'Mbit/s', '2025-02-21 12:47:33']\n",
            "Test number: 79\n",
            "[b'Ping:', b'8.041', b'ms', b'Download:', b'1810.71', b'Mbit/s', b'Upload:', b'659.13', b'Mbit/s', '2025-02-21 12:47:37']\n",
            "Test number: 80\n",
            "[b'Ping:', b'9.228', b'ms', b'Download:', b'1289.89', b'Mbit/s', b'Upload:', b'657.93', b'Mbit/s', '2025-02-21 12:47:42']\n",
            "Test number: 81\n",
            "[b'Ping:', b'8.141', b'ms', b'Download:', b'1884.20', b'Mbit/s', b'Upload:', b'649.37', b'Mbit/s', '2025-02-21 12:47:48']\n",
            "Test number: 82\n",
            "[b'Ping:', b'8.409', b'ms', b'Download:', b'1753.99', b'Mbit/s', b'Upload:', b'744.89', b'Mbit/s', '2025-02-21 12:47:52']\n",
            "Test number: 83\n",
            "[b'Ping:', b'8.033', b'ms', b'Download:', b'2002.50', b'Mbit/s', b'Upload:', b'726.80', b'Mbit/s', '2025-02-21 12:47:57']\n",
            "Test number: 84\n",
            "[b'Ping:', b'8.417', b'ms', b'Download:', b'1910.09', b'Mbit/s', b'Upload:', b'678.26', b'Mbit/s', '2025-02-21 12:48:02']\n",
            "Test number: 85\n",
            "[b'Ping:', b'9.569', b'ms', b'Download:', b'2938.65', b'Mbit/s', b'Upload:', b'580.57', b'Mbit/s', '2025-02-21 12:48:06']\n",
            "Test number: 86\n",
            "[b'Ping:', b'8.723', b'ms', b'Download:', b'2001.55', b'Mbit/s', b'Upload:', b'713.02', b'Mbit/s', '2025-02-21 12:48:11']\n",
            "Test number: 87\n",
            "[b'Ping:', b'8.585', b'ms', b'Download:', b'1938.64', b'Mbit/s', b'Upload:', b'741.15', b'Mbit/s', '2025-02-21 12:48:15']\n",
            "Test number: 88\n",
            "[b'Ping:', b'8.418', b'ms', b'Download:', b'1916.10', b'Mbit/s', b'Upload:', b'701.13', b'Mbit/s', '2025-02-21 12:48:20']\n",
            "Test number: 89\n",
            "[b'Ping:', b'8.389', b'ms', b'Download:', b'2044.06', b'Mbit/s', b'Upload:', b'731.14', b'Mbit/s', '2025-02-21 12:48:24']\n",
            "Test number: 90\n",
            "[b'Ping:', b'8.552', b'ms', b'Download:', b'1793.54', b'Mbit/s', b'Upload:', b'718.14', b'Mbit/s', '2025-02-21 12:48:28']\n",
            "Test number: 91\n",
            "[b'Ping:', b'8.566', b'ms', b'Download:', b'1519.89', b'Mbit/s', b'Upload:', b'781.41', b'Mbit/s', '2025-02-21 12:48:33']\n",
            "Test number: 92\n",
            "[b'Ping:', b'8.49', b'ms', b'Download:', b'2018.56', b'Mbit/s', b'Upload:', b'778.25', b'Mbit/s', '2025-02-21 12:48:38']\n",
            "Test number: 93\n",
            "[b'Ping:', b'8.034', b'ms', b'Download:', b'1531.61', b'Mbit/s', b'Upload:', b'818.75', b'Mbit/s', '2025-02-21 12:48:42']\n",
            "Test number: 94\n",
            "[b'Ping:', b'8.112', b'ms', b'Download:', b'2113.65', b'Mbit/s', b'Upload:', b'718.79', b'Mbit/s', '2025-02-21 12:48:47']\n",
            "Test number: 95\n",
            "[b'Ping:', b'8.315', b'ms', b'Download:', b'1980.57', b'Mbit/s', b'Upload:', b'818.77', b'Mbit/s', '2025-02-21 12:48:51']\n",
            "Test number: 96\n",
            "[b'Ping:', b'9.034', b'ms', b'Download:', b'742.53', b'Mbit/s', b'Upload:', b'800.43', b'Mbit/s', '2025-02-21 12:48:56']\n",
            "Test number: 97\n",
            "[b'Ping:', b'8.397', b'ms', b'Download:', b'2006.21', b'Mbit/s', b'Upload:', b'793.51', b'Mbit/s', '2025-02-21 12:49:03']\n",
            "Test number: 98\n",
            "[b'Ping:', b'8.509', b'ms', b'Download:', b'2069.90', b'Mbit/s', b'Upload:', b'685.28', b'Mbit/s', '2025-02-21 12:49:07']\n",
            "Test number: 99\n",
            "[b'Ping:', b'8.672', b'ms', b'Download:', b'1912.45', b'Mbit/s', b'Upload:', b'789.97', b'Mbit/s', '2025-02-21 12:49:11']\n"
          ]
        }
      ],
      "source": [
        "# Code cell 18\n",
        "# Code to run 100 times\n",
        "for i in range(100):\n",
        "    speedtest_output = speedtest()\n",
        "    print('Test number: {}'.format(i))\n",
        "    print (speedtest_output)\n",
        "    save_to_csv(speedtest_output, '/tmp/rpi_data')"
      ]
    },
    {
      "cell_type": "markdown",
      "metadata": {
        "id": "LBXfAFvIcj0L"
      },
      "source": [
        "## Part 2: Manipulate Data"
      ]
    },
    {
      "cell_type": "markdown",
      "metadata": {
        "id": "lGWm7xJMcj0M"
      },
      "source": [
        "The Python library `pandas` is very useful for working with structured data. The full documentation can be found here: http://pandas.pydata.org/pandas-docs/version/0.14.1/</font>\n",
        "\n",
        "A larger dataset collected in advance will be used for this part of the lab. The filename is `rpi_data_long.csv`.\n",
        "\n",
        "#### Step 1: Import the Python libraries.\n",
        "\n",
        "Import `pandas` and the other libraries used for the next tasks."
      ]
    },
    {
      "cell_type": "code",
      "execution_count": null,
      "metadata": {
        "collapsed": true,
        "id": "iRsktCcEcj0M"
      },
      "outputs": [],
      "source": [
        "# Code cell 19\n",
        "import datetime\n",
        "import csv\n",
        "import pandas as pd\n",
        "# NumPy is a library that adds support for large, multi-dimensional arrays and matrices\n",
        "# along with high-level mathematical functions to operate on these arrays\n",
        "import numpy as np"
      ]
    },
    {
      "cell_type": "markdown",
      "metadata": {
        "id": "6xJltUqHcj0M"
      },
      "source": [
        "#### Step 2: Load the `csv` file into a `DataFrame` object using `pandas`.\n",
        "\n",
        "A `pandas DataFrame` is a 2-dimensional labeled data structure with columns of potentially different types. You can think of it like a spreadsheet or SQL table. The pandas library function `read_csv` automatically converts a `csv` file into a `DataFrame` object.\n",
        "\n",
        "Read the `read_csv` documentation in http://pandas.pydata.org/pandas-docs/version/0.14.1/generated/pandas.read_csv.html.\n",
        "This function contains a lot of parameters. The only non-optional one is the `filepath`, i.e. the location of the `csv` file. All the other parameters are optional.\n",
        "\n",
        "In this step, you will import and view the content of the csv file, `rpi_data_long.csv`. This csv file is located in the same directory as this Jupyter notebook."
      ]
    },
    {
      "cell_type": "markdown",
      "metadata": {
        "id": "zVSrVOEIcj0M"
      },
      "source": [
        "a) Assign the file `rpi_data_long.csv` to the variable `data_file`."
      ]
    },
    {
      "cell_type": "code",
      "execution_count": null,
      "metadata": {
        "collapsed": true,
        "id": "GaAnqdMicj0M"
      },
      "outputs": [],
      "source": [
        "# Code cell 20\n",
        "data_file = '/tmp/rpi_data.csv'"
      ]
    },
    {
      "cell_type": "markdown",
      "metadata": {
        "id": "7e5aPbOrcj0M"
      },
      "source": [
        "b) Use the Linux command `head` to view the first 10 lines of the csv file."
      ]
    },
    {
      "cell_type": "code",
      "execution_count": null,
      "metadata": {
        "collapsed": true,
        "scrolled": true,
        "colab": {
          "base_uri": "https://localhost:8080/"
        },
        "id": "8nqcJ8Zqcj0M",
        "outputId": "44981adf-8a58-456b-9322-cceb41f31dd8"
      },
      "outputs": [
        {
          "output_type": "stream",
          "name": "stdout",
          "text": [
            "b'Ping:',b'10.159',b'ms',b'Download:',b'1838.33',b'Mbit/s',b'Upload:',b'770.47',b'Mbit/s',2025-02-21 12:41:33\r\n",
            "b'Ping:',b'7.587',b'ms',b'Download:',b'1792.44',b'Mbit/s',b'Upload:',b'792.21',b'Mbit/s',2025-02-21 12:41:38\r\n",
            "b'Ping:',b'7.851',b'ms',b'Download:',b'1915.26',b'Mbit/s',b'Upload:',b'784.59',b'Mbit/s',2025-02-21 12:41:43\r\n",
            "b'Ping:',b'8.571',b'ms',b'Download:',b'1932.23',b'Mbit/s',b'Upload:',b'790.39',b'Mbit/s',2025-02-21 12:41:47\r\n",
            "b'Ping:',b'8.358',b'ms',b'Download:',b'1971.82',b'Mbit/s',b'Upload:',b'689.06',b'Mbit/s',2025-02-21 12:41:51\r\n"
          ]
        }
      ],
      "source": [
        "# Code cell 21\n",
        "!head -n 5 /tmp/rpi_data.csv"
      ]
    },
    {
      "cell_type": "markdown",
      "metadata": {
        "id": "UuHXwjc4cj0M"
      },
      "source": [
        "c) Use the `names` parameter of the `read_csv` function to specify the name of the `DataFrame` columns."
      ]
    },
    {
      "cell_type": "code",
      "execution_count": null,
      "metadata": {
        "collapsed": true,
        "id": "U4D5kfyacj0N"
      },
      "outputs": [],
      "source": [
        "# Code cell 22\n",
        "column_names = [ 'Type A', 'Measure A', 'Units A',\n",
        "                 'Type B', 'Measure B', 'Units B',\n",
        "                 'Type C', 'Measure C', 'Units C',\n",
        "                 'Datetime']"
      ]
    },
    {
      "cell_type": "markdown",
      "metadata": {
        "id": "Yp9bN_NRcj0N"
      },
      "source": [
        "d) Use the `read_csv` function to read from `data_file` and assign `column_names` as the column names in the dataframe."
      ]
    },
    {
      "cell_type": "code",
      "execution_count": null,
      "metadata": {
        "collapsed": true,
        "id": "6awLoKNYcj0N"
      },
      "outputs": [],
      "source": [
        "# Code cell 23\n",
        "with open(data_file, 'r') as f:\n",
        "    df_redundant = pd.read_csv(f, names = column_names)"
      ]
    },
    {
      "cell_type": "markdown",
      "metadata": {
        "id": "qORVT2ldcj0N"
      },
      "source": [
        "e) The command `head()` displays the first few rows of the dataframe."
      ]
    },
    {
      "cell_type": "code",
      "execution_count": null,
      "metadata": {
        "collapsed": true,
        "colab": {
          "base_uri": "https://localhost:8080/",
          "height": 204
        },
        "id": "ebtDVfhgcj0N",
        "outputId": "6329a01b-3deb-4084-e1f0-74b7971d134b"
      },
      "outputs": [
        {
          "output_type": "execute_result",
          "data": {
            "text/plain": [
              "     Type A  Measure A Units A        Type B   Measure B    Units B  \\\n",
              "0  b'Ping:'  b'10.159'   b'ms'  b'Download:'  b'1838.33'  b'Mbit/s'   \n",
              "1  b'Ping:'   b'7.587'   b'ms'  b'Download:'  b'1792.44'  b'Mbit/s'   \n",
              "2  b'Ping:'   b'7.851'   b'ms'  b'Download:'  b'1915.26'  b'Mbit/s'   \n",
              "3  b'Ping:'   b'8.571'   b'ms'  b'Download:'  b'1932.23'  b'Mbit/s'   \n",
              "4  b'Ping:'   b'8.358'   b'ms'  b'Download:'  b'1971.82'  b'Mbit/s'   \n",
              "\n",
              "       Type C  Measure C    Units C             Datetime  \n",
              "0  b'Upload:'  b'770.47'  b'Mbit/s'  2025-02-21 12:41:33  \n",
              "1  b'Upload:'  b'792.21'  b'Mbit/s'  2025-02-21 12:41:38  \n",
              "2  b'Upload:'  b'784.59'  b'Mbit/s'  2025-02-21 12:41:43  \n",
              "3  b'Upload:'  b'790.39'  b'Mbit/s'  2025-02-21 12:41:47  \n",
              "4  b'Upload:'  b'689.06'  b'Mbit/s'  2025-02-21 12:41:51  "
            ],
            "text/html": [
              "\n",
              "  <div id=\"df-29f19bc9-18c6-4ce4-aad4-5f052e8251e8\" class=\"colab-df-container\">\n",
              "    <div>\n",
              "<style scoped>\n",
              "    .dataframe tbody tr th:only-of-type {\n",
              "        vertical-align: middle;\n",
              "    }\n",
              "\n",
              "    .dataframe tbody tr th {\n",
              "        vertical-align: top;\n",
              "    }\n",
              "\n",
              "    .dataframe thead th {\n",
              "        text-align: right;\n",
              "    }\n",
              "</style>\n",
              "<table border=\"1\" class=\"dataframe\">\n",
              "  <thead>\n",
              "    <tr style=\"text-align: right;\">\n",
              "      <th></th>\n",
              "      <th>Type A</th>\n",
              "      <th>Measure A</th>\n",
              "      <th>Units A</th>\n",
              "      <th>Type B</th>\n",
              "      <th>Measure B</th>\n",
              "      <th>Units B</th>\n",
              "      <th>Type C</th>\n",
              "      <th>Measure C</th>\n",
              "      <th>Units C</th>\n",
              "      <th>Datetime</th>\n",
              "    </tr>\n",
              "  </thead>\n",
              "  <tbody>\n",
              "    <tr>\n",
              "      <th>0</th>\n",
              "      <td>b'Ping:'</td>\n",
              "      <td>b'10.159'</td>\n",
              "      <td>b'ms'</td>\n",
              "      <td>b'Download:'</td>\n",
              "      <td>b'1838.33'</td>\n",
              "      <td>b'Mbit/s'</td>\n",
              "      <td>b'Upload:'</td>\n",
              "      <td>b'770.47'</td>\n",
              "      <td>b'Mbit/s'</td>\n",
              "      <td>2025-02-21 12:41:33</td>\n",
              "    </tr>\n",
              "    <tr>\n",
              "      <th>1</th>\n",
              "      <td>b'Ping:'</td>\n",
              "      <td>b'7.587'</td>\n",
              "      <td>b'ms'</td>\n",
              "      <td>b'Download:'</td>\n",
              "      <td>b'1792.44'</td>\n",
              "      <td>b'Mbit/s'</td>\n",
              "      <td>b'Upload:'</td>\n",
              "      <td>b'792.21'</td>\n",
              "      <td>b'Mbit/s'</td>\n",
              "      <td>2025-02-21 12:41:38</td>\n",
              "    </tr>\n",
              "    <tr>\n",
              "      <th>2</th>\n",
              "      <td>b'Ping:'</td>\n",
              "      <td>b'7.851'</td>\n",
              "      <td>b'ms'</td>\n",
              "      <td>b'Download:'</td>\n",
              "      <td>b'1915.26'</td>\n",
              "      <td>b'Mbit/s'</td>\n",
              "      <td>b'Upload:'</td>\n",
              "      <td>b'784.59'</td>\n",
              "      <td>b'Mbit/s'</td>\n",
              "      <td>2025-02-21 12:41:43</td>\n",
              "    </tr>\n",
              "    <tr>\n",
              "      <th>3</th>\n",
              "      <td>b'Ping:'</td>\n",
              "      <td>b'8.571'</td>\n",
              "      <td>b'ms'</td>\n",
              "      <td>b'Download:'</td>\n",
              "      <td>b'1932.23'</td>\n",
              "      <td>b'Mbit/s'</td>\n",
              "      <td>b'Upload:'</td>\n",
              "      <td>b'790.39'</td>\n",
              "      <td>b'Mbit/s'</td>\n",
              "      <td>2025-02-21 12:41:47</td>\n",
              "    </tr>\n",
              "    <tr>\n",
              "      <th>4</th>\n",
              "      <td>b'Ping:'</td>\n",
              "      <td>b'8.358'</td>\n",
              "      <td>b'ms'</td>\n",
              "      <td>b'Download:'</td>\n",
              "      <td>b'1971.82'</td>\n",
              "      <td>b'Mbit/s'</td>\n",
              "      <td>b'Upload:'</td>\n",
              "      <td>b'689.06'</td>\n",
              "      <td>b'Mbit/s'</td>\n",
              "      <td>2025-02-21 12:41:51</td>\n",
              "    </tr>\n",
              "  </tbody>\n",
              "</table>\n",
              "</div>\n",
              "    <div class=\"colab-df-buttons\">\n",
              "\n",
              "  <div class=\"colab-df-container\">\n",
              "    <button class=\"colab-df-convert\" onclick=\"convertToInteractive('df-29f19bc9-18c6-4ce4-aad4-5f052e8251e8')\"\n",
              "            title=\"Convert this dataframe to an interactive table.\"\n",
              "            style=\"display:none;\">\n",
              "\n",
              "  <svg xmlns=\"http://www.w3.org/2000/svg\" height=\"24px\" viewBox=\"0 -960 960 960\">\n",
              "    <path d=\"M120-120v-720h720v720H120Zm60-500h600v-160H180v160Zm220 220h160v-160H400v160Zm0 220h160v-160H400v160ZM180-400h160v-160H180v160Zm440 0h160v-160H620v160ZM180-180h160v-160H180v160Zm440 0h160v-160H620v160Z\"/>\n",
              "  </svg>\n",
              "    </button>\n",
              "\n",
              "  <style>\n",
              "    .colab-df-container {\n",
              "      display:flex;\n",
              "      gap: 12px;\n",
              "    }\n",
              "\n",
              "    .colab-df-convert {\n",
              "      background-color: #E8F0FE;\n",
              "      border: none;\n",
              "      border-radius: 50%;\n",
              "      cursor: pointer;\n",
              "      display: none;\n",
              "      fill: #1967D2;\n",
              "      height: 32px;\n",
              "      padding: 0 0 0 0;\n",
              "      width: 32px;\n",
              "    }\n",
              "\n",
              "    .colab-df-convert:hover {\n",
              "      background-color: #E2EBFA;\n",
              "      box-shadow: 0px 1px 2px rgba(60, 64, 67, 0.3), 0px 1px 3px 1px rgba(60, 64, 67, 0.15);\n",
              "      fill: #174EA6;\n",
              "    }\n",
              "\n",
              "    .colab-df-buttons div {\n",
              "      margin-bottom: 4px;\n",
              "    }\n",
              "\n",
              "    [theme=dark] .colab-df-convert {\n",
              "      background-color: #3B4455;\n",
              "      fill: #D2E3FC;\n",
              "    }\n",
              "\n",
              "    [theme=dark] .colab-df-convert:hover {\n",
              "      background-color: #434B5C;\n",
              "      box-shadow: 0px 1px 3px 1px rgba(0, 0, 0, 0.15);\n",
              "      filter: drop-shadow(0px 1px 2px rgba(0, 0, 0, 0.3));\n",
              "      fill: #FFFFFF;\n",
              "    }\n",
              "  </style>\n",
              "\n",
              "    <script>\n",
              "      const buttonEl =\n",
              "        document.querySelector('#df-29f19bc9-18c6-4ce4-aad4-5f052e8251e8 button.colab-df-convert');\n",
              "      buttonEl.style.display =\n",
              "        google.colab.kernel.accessAllowed ? 'block' : 'none';\n",
              "\n",
              "      async function convertToInteractive(key) {\n",
              "        const element = document.querySelector('#df-29f19bc9-18c6-4ce4-aad4-5f052e8251e8');\n",
              "        const dataTable =\n",
              "          await google.colab.kernel.invokeFunction('convertToInteractive',\n",
              "                                                    [key], {});\n",
              "        if (!dataTable) return;\n",
              "\n",
              "        const docLinkHtml = 'Like what you see? Visit the ' +\n",
              "          '<a target=\"_blank\" href=https://colab.research.google.com/notebooks/data_table.ipynb>data table notebook</a>'\n",
              "          + ' to learn more about interactive tables.';\n",
              "        element.innerHTML = '';\n",
              "        dataTable['output_type'] = 'display_data';\n",
              "        await google.colab.output.renderOutput(dataTable, element);\n",
              "        const docLink = document.createElement('div');\n",
              "        docLink.innerHTML = docLinkHtml;\n",
              "        element.appendChild(docLink);\n",
              "      }\n",
              "    </script>\n",
              "  </div>\n",
              "\n",
              "\n",
              "<div id=\"df-2cffb112-262d-4425-9558-0ede2b999f38\">\n",
              "  <button class=\"colab-df-quickchart\" onclick=\"quickchart('df-2cffb112-262d-4425-9558-0ede2b999f38')\"\n",
              "            title=\"Suggest charts\"\n",
              "            style=\"display:none;\">\n",
              "\n",
              "<svg xmlns=\"http://www.w3.org/2000/svg\" height=\"24px\"viewBox=\"0 0 24 24\"\n",
              "     width=\"24px\">\n",
              "    <g>\n",
              "        <path d=\"M19 3H5c-1.1 0-2 .9-2 2v14c0 1.1.9 2 2 2h14c1.1 0 2-.9 2-2V5c0-1.1-.9-2-2-2zM9 17H7v-7h2v7zm4 0h-2V7h2v10zm4 0h-2v-4h2v4z\"/>\n",
              "    </g>\n",
              "</svg>\n",
              "  </button>\n",
              "\n",
              "<style>\n",
              "  .colab-df-quickchart {\n",
              "      --bg-color: #E8F0FE;\n",
              "      --fill-color: #1967D2;\n",
              "      --hover-bg-color: #E2EBFA;\n",
              "      --hover-fill-color: #174EA6;\n",
              "      --disabled-fill-color: #AAA;\n",
              "      --disabled-bg-color: #DDD;\n",
              "  }\n",
              "\n",
              "  [theme=dark] .colab-df-quickchart {\n",
              "      --bg-color: #3B4455;\n",
              "      --fill-color: #D2E3FC;\n",
              "      --hover-bg-color: #434B5C;\n",
              "      --hover-fill-color: #FFFFFF;\n",
              "      --disabled-bg-color: #3B4455;\n",
              "      --disabled-fill-color: #666;\n",
              "  }\n",
              "\n",
              "  .colab-df-quickchart {\n",
              "    background-color: var(--bg-color);\n",
              "    border: none;\n",
              "    border-radius: 50%;\n",
              "    cursor: pointer;\n",
              "    display: none;\n",
              "    fill: var(--fill-color);\n",
              "    height: 32px;\n",
              "    padding: 0;\n",
              "    width: 32px;\n",
              "  }\n",
              "\n",
              "  .colab-df-quickchart:hover {\n",
              "    background-color: var(--hover-bg-color);\n",
              "    box-shadow: 0 1px 2px rgba(60, 64, 67, 0.3), 0 1px 3px 1px rgba(60, 64, 67, 0.15);\n",
              "    fill: var(--button-hover-fill-color);\n",
              "  }\n",
              "\n",
              "  .colab-df-quickchart-complete:disabled,\n",
              "  .colab-df-quickchart-complete:disabled:hover {\n",
              "    background-color: var(--disabled-bg-color);\n",
              "    fill: var(--disabled-fill-color);\n",
              "    box-shadow: none;\n",
              "  }\n",
              "\n",
              "  .colab-df-spinner {\n",
              "    border: 2px solid var(--fill-color);\n",
              "    border-color: transparent;\n",
              "    border-bottom-color: var(--fill-color);\n",
              "    animation:\n",
              "      spin 1s steps(1) infinite;\n",
              "  }\n",
              "\n",
              "  @keyframes spin {\n",
              "    0% {\n",
              "      border-color: transparent;\n",
              "      border-bottom-color: var(--fill-color);\n",
              "      border-left-color: var(--fill-color);\n",
              "    }\n",
              "    20% {\n",
              "      border-color: transparent;\n",
              "      border-left-color: var(--fill-color);\n",
              "      border-top-color: var(--fill-color);\n",
              "    }\n",
              "    30% {\n",
              "      border-color: transparent;\n",
              "      border-left-color: var(--fill-color);\n",
              "      border-top-color: var(--fill-color);\n",
              "      border-right-color: var(--fill-color);\n",
              "    }\n",
              "    40% {\n",
              "      border-color: transparent;\n",
              "      border-right-color: var(--fill-color);\n",
              "      border-top-color: var(--fill-color);\n",
              "    }\n",
              "    60% {\n",
              "      border-color: transparent;\n",
              "      border-right-color: var(--fill-color);\n",
              "    }\n",
              "    80% {\n",
              "      border-color: transparent;\n",
              "      border-right-color: var(--fill-color);\n",
              "      border-bottom-color: var(--fill-color);\n",
              "    }\n",
              "    90% {\n",
              "      border-color: transparent;\n",
              "      border-bottom-color: var(--fill-color);\n",
              "    }\n",
              "  }\n",
              "</style>\n",
              "\n",
              "  <script>\n",
              "    async function quickchart(key) {\n",
              "      const quickchartButtonEl =\n",
              "        document.querySelector('#' + key + ' button');\n",
              "      quickchartButtonEl.disabled = true;  // To prevent multiple clicks.\n",
              "      quickchartButtonEl.classList.add('colab-df-spinner');\n",
              "      try {\n",
              "        const charts = await google.colab.kernel.invokeFunction(\n",
              "            'suggestCharts', [key], {});\n",
              "      } catch (error) {\n",
              "        console.error('Error during call to suggestCharts:', error);\n",
              "      }\n",
              "      quickchartButtonEl.classList.remove('colab-df-spinner');\n",
              "      quickchartButtonEl.classList.add('colab-df-quickchart-complete');\n",
              "    }\n",
              "    (() => {\n",
              "      let quickchartButtonEl =\n",
              "        document.querySelector('#df-2cffb112-262d-4425-9558-0ede2b999f38 button');\n",
              "      quickchartButtonEl.style.display =\n",
              "        google.colab.kernel.accessAllowed ? 'block' : 'none';\n",
              "    })();\n",
              "  </script>\n",
              "</div>\n",
              "\n",
              "    </div>\n",
              "  </div>\n"
            ],
            "application/vnd.google.colaboratory.intrinsic+json": {
              "type": "dataframe",
              "variable_name": "df_redundant",
              "summary": "{\n  \"name\": \"df_redundant\",\n  \"rows\": 100,\n  \"fields\": [\n    {\n      \"column\": \"Type A\",\n      \"properties\": {\n        \"dtype\": \"category\",\n        \"num_unique_values\": 1,\n        \"samples\": [\n          \"b'Ping:'\"\n        ],\n        \"semantic_type\": \"\",\n        \"description\": \"\"\n      }\n    },\n    {\n      \"column\": \"Measure A\",\n      \"properties\": {\n        \"dtype\": \"string\",\n        \"num_unique_values\": 99,\n        \"samples\": [\n          \"b'8.258'\"\n        ],\n        \"semantic_type\": \"\",\n        \"description\": \"\"\n      }\n    },\n    {\n      \"column\": \"Units A\",\n      \"properties\": {\n        \"dtype\": \"category\",\n        \"num_unique_values\": 1,\n        \"samples\": [\n          \"b'ms'\"\n        ],\n        \"semantic_type\": \"\",\n        \"description\": \"\"\n      }\n    },\n    {\n      \"column\": \"Type B\",\n      \"properties\": {\n        \"dtype\": \"category\",\n        \"num_unique_values\": 1,\n        \"samples\": [\n          \"b'Download:'\"\n        ],\n        \"semantic_type\": \"\",\n        \"description\": \"\"\n      }\n    },\n    {\n      \"column\": \"Measure B\",\n      \"properties\": {\n        \"dtype\": \"string\",\n        \"num_unique_values\": 100,\n        \"samples\": [\n          \"b'2002.50'\"\n        ],\n        \"semantic_type\": \"\",\n        \"description\": \"\"\n      }\n    },\n    {\n      \"column\": \"Units B\",\n      \"properties\": {\n        \"dtype\": \"category\",\n        \"num_unique_values\": 1,\n        \"samples\": [\n          \"b'Mbit/s'\"\n        ],\n        \"semantic_type\": \"\",\n        \"description\": \"\"\n      }\n    },\n    {\n      \"column\": \"Type C\",\n      \"properties\": {\n        \"dtype\": \"category\",\n        \"num_unique_values\": 1,\n        \"samples\": [\n          \"b'Upload:'\"\n        ],\n        \"semantic_type\": \"\",\n        \"description\": \"\"\n      }\n    },\n    {\n      \"column\": \"Measure C\",\n      \"properties\": {\n        \"dtype\": \"string\",\n        \"num_unique_values\": 100,\n        \"samples\": [\n          \"b'726.80'\"\n        ],\n        \"semantic_type\": \"\",\n        \"description\": \"\"\n      }\n    },\n    {\n      \"column\": \"Units C\",\n      \"properties\": {\n        \"dtype\": \"category\",\n        \"num_unique_values\": 1,\n        \"samples\": [\n          \"b'Mbit/s'\"\n        ],\n        \"semantic_type\": \"\",\n        \"description\": \"\"\n      }\n    },\n    {\n      \"column\": \"Datetime\",\n      \"properties\": {\n        \"dtype\": \"object\",\n        \"num_unique_values\": 100,\n        \"samples\": [\n          \"2025-02-21 12:47:57\"\n        ],\n        \"semantic_type\": \"\",\n        \"description\": \"\"\n      }\n    }\n  ]\n}"
            }
          },
          "metadata": {},
          "execution_count": 61
        }
      ],
      "source": [
        "# Code cell 24\n",
        "# You can specify the number of rows you want to print to screen:\n",
        "# you do so passing the number as an argument to the function\n",
        "# (e.g., head(10))\n",
        "df_redundant.head()"
      ]
    },
    {
      "cell_type": "markdown",
      "metadata": {
        "id": "6qUvmVOjcj0N"
      },
      "source": [
        "What is the code to read the first 20 lines of the csv file?"
      ]
    },
    {
      "cell_type": "markdown",
      "metadata": {
        "id": "Oci1zGEFcj0N"
      },
      "source": []
    },
    {
      "cell_type": "markdown",
      "metadata": {
        "id": "HliDSDB2cj0N"
      },
      "source": [
        "#### Step 3: Create a concise representation.\n",
        "In this step, you will create a more compact representation using a copy of the data frame `df_redundant`."
      ]
    },
    {
      "cell_type": "markdown",
      "metadata": {
        "id": "1K9OI6D5cj0N"
      },
      "source": [
        "a) Copy `df_redundant` into another dataframe called `df_compact` using `copy()`."
      ]
    },
    {
      "cell_type": "code",
      "execution_count": null,
      "metadata": {
        "collapsed": true,
        "id": "_Huakp_Ncj0N"
      },
      "outputs": [],
      "source": [
        "# Code cell 25\n",
        "df_compact = df_redundant.copy()"
      ]
    },
    {
      "cell_type": "markdown",
      "metadata": {
        "id": "aXEhGflNcj0N"
      },
      "source": [
        "b) Rename the columns relative to the measures as shown:\n",
        "\n",
        "    Measure A -> Ping (ms)\n",
        "    Measure B -> Download (Mbit/s)\n",
        "    Measure C -> Upload (Mbit/s)"
      ]
    },
    {
      "cell_type": "code",
      "execution_count": null,
      "metadata": {
        "collapsed": true,
        "scrolled": true,
        "colab": {
          "base_uri": "https://localhost:8080/",
          "height": 210
        },
        "id": "13YgwnbVcj0O",
        "outputId": "8f2e1cd5-310c-4cc8-8739-3d0d10e5d38d"
      },
      "outputs": [
        {
          "output_type": "execute_result",
          "data": {
            "text/plain": [
              "     Type A  Ping (ms) Units A        Type B Download (Mbit/s)    Units B  \\\n",
              "0  b'Ping:'  b'10.159'   b'ms'  b'Download:'        b'1838.33'  b'Mbit/s'   \n",
              "1  b'Ping:'   b'7.587'   b'ms'  b'Download:'        b'1792.44'  b'Mbit/s'   \n",
              "2  b'Ping:'   b'7.851'   b'ms'  b'Download:'        b'1915.26'  b'Mbit/s'   \n",
              "\n",
              "       Type C Upload (Mbit/s)    Units C             Datetime  \n",
              "0  b'Upload:'       b'770.47'  b'Mbit/s'  2025-02-21 12:41:33  \n",
              "1  b'Upload:'       b'792.21'  b'Mbit/s'  2025-02-21 12:41:38  \n",
              "2  b'Upload:'       b'784.59'  b'Mbit/s'  2025-02-21 12:41:43  "
            ],
            "text/html": [
              "\n",
              "  <div id=\"df-8a1aee7d-6ef3-476a-87ce-3aec2cf8ebeb\" class=\"colab-df-container\">\n",
              "    <div>\n",
              "<style scoped>\n",
              "    .dataframe tbody tr th:only-of-type {\n",
              "        vertical-align: middle;\n",
              "    }\n",
              "\n",
              "    .dataframe tbody tr th {\n",
              "        vertical-align: top;\n",
              "    }\n",
              "\n",
              "    .dataframe thead th {\n",
              "        text-align: right;\n",
              "    }\n",
              "</style>\n",
              "<table border=\"1\" class=\"dataframe\">\n",
              "  <thead>\n",
              "    <tr style=\"text-align: right;\">\n",
              "      <th></th>\n",
              "      <th>Type A</th>\n",
              "      <th>Ping (ms)</th>\n",
              "      <th>Units A</th>\n",
              "      <th>Type B</th>\n",
              "      <th>Download (Mbit/s)</th>\n",
              "      <th>Units B</th>\n",
              "      <th>Type C</th>\n",
              "      <th>Upload (Mbit/s)</th>\n",
              "      <th>Units C</th>\n",
              "      <th>Datetime</th>\n",
              "    </tr>\n",
              "  </thead>\n",
              "  <tbody>\n",
              "    <tr>\n",
              "      <th>0</th>\n",
              "      <td>b'Ping:'</td>\n",
              "      <td>b'10.159'</td>\n",
              "      <td>b'ms'</td>\n",
              "      <td>b'Download:'</td>\n",
              "      <td>b'1838.33'</td>\n",
              "      <td>b'Mbit/s'</td>\n",
              "      <td>b'Upload:'</td>\n",
              "      <td>b'770.47'</td>\n",
              "      <td>b'Mbit/s'</td>\n",
              "      <td>2025-02-21 12:41:33</td>\n",
              "    </tr>\n",
              "    <tr>\n",
              "      <th>1</th>\n",
              "      <td>b'Ping:'</td>\n",
              "      <td>b'7.587'</td>\n",
              "      <td>b'ms'</td>\n",
              "      <td>b'Download:'</td>\n",
              "      <td>b'1792.44'</td>\n",
              "      <td>b'Mbit/s'</td>\n",
              "      <td>b'Upload:'</td>\n",
              "      <td>b'792.21'</td>\n",
              "      <td>b'Mbit/s'</td>\n",
              "      <td>2025-02-21 12:41:38</td>\n",
              "    </tr>\n",
              "    <tr>\n",
              "      <th>2</th>\n",
              "      <td>b'Ping:'</td>\n",
              "      <td>b'7.851'</td>\n",
              "      <td>b'ms'</td>\n",
              "      <td>b'Download:'</td>\n",
              "      <td>b'1915.26'</td>\n",
              "      <td>b'Mbit/s'</td>\n",
              "      <td>b'Upload:'</td>\n",
              "      <td>b'784.59'</td>\n",
              "      <td>b'Mbit/s'</td>\n",
              "      <td>2025-02-21 12:41:43</td>\n",
              "    </tr>\n",
              "  </tbody>\n",
              "</table>\n",
              "</div>\n",
              "    <div class=\"colab-df-buttons\">\n",
              "\n",
              "  <div class=\"colab-df-container\">\n",
              "    <button class=\"colab-df-convert\" onclick=\"convertToInteractive('df-8a1aee7d-6ef3-476a-87ce-3aec2cf8ebeb')\"\n",
              "            title=\"Convert this dataframe to an interactive table.\"\n",
              "            style=\"display:none;\">\n",
              "\n",
              "  <svg xmlns=\"http://www.w3.org/2000/svg\" height=\"24px\" viewBox=\"0 -960 960 960\">\n",
              "    <path d=\"M120-120v-720h720v720H120Zm60-500h600v-160H180v160Zm220 220h160v-160H400v160Zm0 220h160v-160H400v160ZM180-400h160v-160H180v160Zm440 0h160v-160H620v160ZM180-180h160v-160H180v160Zm440 0h160v-160H620v160Z\"/>\n",
              "  </svg>\n",
              "    </button>\n",
              "\n",
              "  <style>\n",
              "    .colab-df-container {\n",
              "      display:flex;\n",
              "      gap: 12px;\n",
              "    }\n",
              "\n",
              "    .colab-df-convert {\n",
              "      background-color: #E8F0FE;\n",
              "      border: none;\n",
              "      border-radius: 50%;\n",
              "      cursor: pointer;\n",
              "      display: none;\n",
              "      fill: #1967D2;\n",
              "      height: 32px;\n",
              "      padding: 0 0 0 0;\n",
              "      width: 32px;\n",
              "    }\n",
              "\n",
              "    .colab-df-convert:hover {\n",
              "      background-color: #E2EBFA;\n",
              "      box-shadow: 0px 1px 2px rgba(60, 64, 67, 0.3), 0px 1px 3px 1px rgba(60, 64, 67, 0.15);\n",
              "      fill: #174EA6;\n",
              "    }\n",
              "\n",
              "    .colab-df-buttons div {\n",
              "      margin-bottom: 4px;\n",
              "    }\n",
              "\n",
              "    [theme=dark] .colab-df-convert {\n",
              "      background-color: #3B4455;\n",
              "      fill: #D2E3FC;\n",
              "    }\n",
              "\n",
              "    [theme=dark] .colab-df-convert:hover {\n",
              "      background-color: #434B5C;\n",
              "      box-shadow: 0px 1px 3px 1px rgba(0, 0, 0, 0.15);\n",
              "      filter: drop-shadow(0px 1px 2px rgba(0, 0, 0, 0.3));\n",
              "      fill: #FFFFFF;\n",
              "    }\n",
              "  </style>\n",
              "\n",
              "    <script>\n",
              "      const buttonEl =\n",
              "        document.querySelector('#df-8a1aee7d-6ef3-476a-87ce-3aec2cf8ebeb button.colab-df-convert');\n",
              "      buttonEl.style.display =\n",
              "        google.colab.kernel.accessAllowed ? 'block' : 'none';\n",
              "\n",
              "      async function convertToInteractive(key) {\n",
              "        const element = document.querySelector('#df-8a1aee7d-6ef3-476a-87ce-3aec2cf8ebeb');\n",
              "        const dataTable =\n",
              "          await google.colab.kernel.invokeFunction('convertToInteractive',\n",
              "                                                    [key], {});\n",
              "        if (!dataTable) return;\n",
              "\n",
              "        const docLinkHtml = 'Like what you see? Visit the ' +\n",
              "          '<a target=\"_blank\" href=https://colab.research.google.com/notebooks/data_table.ipynb>data table notebook</a>'\n",
              "          + ' to learn more about interactive tables.';\n",
              "        element.innerHTML = '';\n",
              "        dataTable['output_type'] = 'display_data';\n",
              "        await google.colab.output.renderOutput(dataTable, element);\n",
              "        const docLink = document.createElement('div');\n",
              "        docLink.innerHTML = docLinkHtml;\n",
              "        element.appendChild(docLink);\n",
              "      }\n",
              "    </script>\n",
              "  </div>\n",
              "\n",
              "\n",
              "<div id=\"df-2ad8c73c-b9a2-4a90-9e5b-3b7690bfa587\">\n",
              "  <button class=\"colab-df-quickchart\" onclick=\"quickchart('df-2ad8c73c-b9a2-4a90-9e5b-3b7690bfa587')\"\n",
              "            title=\"Suggest charts\"\n",
              "            style=\"display:none;\">\n",
              "\n",
              "<svg xmlns=\"http://www.w3.org/2000/svg\" height=\"24px\"viewBox=\"0 0 24 24\"\n",
              "     width=\"24px\">\n",
              "    <g>\n",
              "        <path d=\"M19 3H5c-1.1 0-2 .9-2 2v14c0 1.1.9 2 2 2h14c1.1 0 2-.9 2-2V5c0-1.1-.9-2-2-2zM9 17H7v-7h2v7zm4 0h-2V7h2v10zm4 0h-2v-4h2v4z\"/>\n",
              "    </g>\n",
              "</svg>\n",
              "  </button>\n",
              "\n",
              "<style>\n",
              "  .colab-df-quickchart {\n",
              "      --bg-color: #E8F0FE;\n",
              "      --fill-color: #1967D2;\n",
              "      --hover-bg-color: #E2EBFA;\n",
              "      --hover-fill-color: #174EA6;\n",
              "      --disabled-fill-color: #AAA;\n",
              "      --disabled-bg-color: #DDD;\n",
              "  }\n",
              "\n",
              "  [theme=dark] .colab-df-quickchart {\n",
              "      --bg-color: #3B4455;\n",
              "      --fill-color: #D2E3FC;\n",
              "      --hover-bg-color: #434B5C;\n",
              "      --hover-fill-color: #FFFFFF;\n",
              "      --disabled-bg-color: #3B4455;\n",
              "      --disabled-fill-color: #666;\n",
              "  }\n",
              "\n",
              "  .colab-df-quickchart {\n",
              "    background-color: var(--bg-color);\n",
              "    border: none;\n",
              "    border-radius: 50%;\n",
              "    cursor: pointer;\n",
              "    display: none;\n",
              "    fill: var(--fill-color);\n",
              "    height: 32px;\n",
              "    padding: 0;\n",
              "    width: 32px;\n",
              "  }\n",
              "\n",
              "  .colab-df-quickchart:hover {\n",
              "    background-color: var(--hover-bg-color);\n",
              "    box-shadow: 0 1px 2px rgba(60, 64, 67, 0.3), 0 1px 3px 1px rgba(60, 64, 67, 0.15);\n",
              "    fill: var(--button-hover-fill-color);\n",
              "  }\n",
              "\n",
              "  .colab-df-quickchart-complete:disabled,\n",
              "  .colab-df-quickchart-complete:disabled:hover {\n",
              "    background-color: var(--disabled-bg-color);\n",
              "    fill: var(--disabled-fill-color);\n",
              "    box-shadow: none;\n",
              "  }\n",
              "\n",
              "  .colab-df-spinner {\n",
              "    border: 2px solid var(--fill-color);\n",
              "    border-color: transparent;\n",
              "    border-bottom-color: var(--fill-color);\n",
              "    animation:\n",
              "      spin 1s steps(1) infinite;\n",
              "  }\n",
              "\n",
              "  @keyframes spin {\n",
              "    0% {\n",
              "      border-color: transparent;\n",
              "      border-bottom-color: var(--fill-color);\n",
              "      border-left-color: var(--fill-color);\n",
              "    }\n",
              "    20% {\n",
              "      border-color: transparent;\n",
              "      border-left-color: var(--fill-color);\n",
              "      border-top-color: var(--fill-color);\n",
              "    }\n",
              "    30% {\n",
              "      border-color: transparent;\n",
              "      border-left-color: var(--fill-color);\n",
              "      border-top-color: var(--fill-color);\n",
              "      border-right-color: var(--fill-color);\n",
              "    }\n",
              "    40% {\n",
              "      border-color: transparent;\n",
              "      border-right-color: var(--fill-color);\n",
              "      border-top-color: var(--fill-color);\n",
              "    }\n",
              "    60% {\n",
              "      border-color: transparent;\n",
              "      border-right-color: var(--fill-color);\n",
              "    }\n",
              "    80% {\n",
              "      border-color: transparent;\n",
              "      border-right-color: var(--fill-color);\n",
              "      border-bottom-color: var(--fill-color);\n",
              "    }\n",
              "    90% {\n",
              "      border-color: transparent;\n",
              "      border-bottom-color: var(--fill-color);\n",
              "    }\n",
              "  }\n",
              "</style>\n",
              "\n",
              "  <script>\n",
              "    async function quickchart(key) {\n",
              "      const quickchartButtonEl =\n",
              "        document.querySelector('#' + key + ' button');\n",
              "      quickchartButtonEl.disabled = true;  // To prevent multiple clicks.\n",
              "      quickchartButtonEl.classList.add('colab-df-spinner');\n",
              "      try {\n",
              "        const charts = await google.colab.kernel.invokeFunction(\n",
              "            'suggestCharts', [key], {});\n",
              "      } catch (error) {\n",
              "        console.error('Error during call to suggestCharts:', error);\n",
              "      }\n",
              "      quickchartButtonEl.classList.remove('colab-df-spinner');\n",
              "      quickchartButtonEl.classList.add('colab-df-quickchart-complete');\n",
              "    }\n",
              "    (() => {\n",
              "      let quickchartButtonEl =\n",
              "        document.querySelector('#df-2ad8c73c-b9a2-4a90-9e5b-3b7690bfa587 button');\n",
              "      quickchartButtonEl.style.display =\n",
              "        google.colab.kernel.accessAllowed ? 'block' : 'none';\n",
              "    })();\n",
              "  </script>\n",
              "</div>\n",
              "\n",
              "    </div>\n",
              "  </div>\n"
            ],
            "application/vnd.google.colaboratory.intrinsic+json": {
              "type": "dataframe",
              "variable_name": "df_compact",
              "summary": "{\n  \"name\": \"df_compact\",\n  \"rows\": 100,\n  \"fields\": [\n    {\n      \"column\": \"Type A\",\n      \"properties\": {\n        \"dtype\": \"category\",\n        \"num_unique_values\": 1,\n        \"samples\": [\n          \"b'Ping:'\"\n        ],\n        \"semantic_type\": \"\",\n        \"description\": \"\"\n      }\n    },\n    {\n      \"column\": \"Ping (ms)\",\n      \"properties\": {\n        \"dtype\": \"string\",\n        \"num_unique_values\": 99,\n        \"samples\": [\n          \"b'8.258'\"\n        ],\n        \"semantic_type\": \"\",\n        \"description\": \"\"\n      }\n    },\n    {\n      \"column\": \"Units A\",\n      \"properties\": {\n        \"dtype\": \"category\",\n        \"num_unique_values\": 1,\n        \"samples\": [\n          \"b'ms'\"\n        ],\n        \"semantic_type\": \"\",\n        \"description\": \"\"\n      }\n    },\n    {\n      \"column\": \"Type B\",\n      \"properties\": {\n        \"dtype\": \"category\",\n        \"num_unique_values\": 1,\n        \"samples\": [\n          \"b'Download:'\"\n        ],\n        \"semantic_type\": \"\",\n        \"description\": \"\"\n      }\n    },\n    {\n      \"column\": \"Download (Mbit/s)\",\n      \"properties\": {\n        \"dtype\": \"string\",\n        \"num_unique_values\": 100,\n        \"samples\": [\n          \"b'2002.50'\"\n        ],\n        \"semantic_type\": \"\",\n        \"description\": \"\"\n      }\n    },\n    {\n      \"column\": \"Units B\",\n      \"properties\": {\n        \"dtype\": \"category\",\n        \"num_unique_values\": 1,\n        \"samples\": [\n          \"b'Mbit/s'\"\n        ],\n        \"semantic_type\": \"\",\n        \"description\": \"\"\n      }\n    },\n    {\n      \"column\": \"Type C\",\n      \"properties\": {\n        \"dtype\": \"category\",\n        \"num_unique_values\": 1,\n        \"samples\": [\n          \"b'Upload:'\"\n        ],\n        \"semantic_type\": \"\",\n        \"description\": \"\"\n      }\n    },\n    {\n      \"column\": \"Upload (Mbit/s)\",\n      \"properties\": {\n        \"dtype\": \"string\",\n        \"num_unique_values\": 100,\n        \"samples\": [\n          \"b'726.80'\"\n        ],\n        \"semantic_type\": \"\",\n        \"description\": \"\"\n      }\n    },\n    {\n      \"column\": \"Units C\",\n      \"properties\": {\n        \"dtype\": \"category\",\n        \"num_unique_values\": 1,\n        \"samples\": [\n          \"b'Mbit/s'\"\n        ],\n        \"semantic_type\": \"\",\n        \"description\": \"\"\n      }\n    },\n    {\n      \"column\": \"Datetime\",\n      \"properties\": {\n        \"dtype\": \"object\",\n        \"num_unique_values\": 100,\n        \"samples\": [\n          \"2025-02-21 12:47:57\"\n        ],\n        \"semantic_type\": \"\",\n        \"description\": \"\"\n      }\n    }\n  ]\n}"
            }
          },
          "metadata": {},
          "execution_count": 63
        }
      ],
      "source": [
        "# Code cell 26\n",
        "df_compact.rename(columns={'Measure A':'Ping (ms)',\n",
        "                           'Measure B': 'Download (Mbit/s)',\n",
        "                           'Measure C': 'Upload (Mbit/s)'}, inplace=True)\n",
        "df_compact.head(3)"
      ]
    },
    {
      "cell_type": "markdown",
      "metadata": {
        "id": "n8CtpdM-cj0O"
      },
      "source": [
        "c) Because the Types and Units columns are no longer necessary, these columns can be dropped."
      ]
    },
    {
      "cell_type": "code",
      "execution_count": null,
      "metadata": {
        "collapsed": true,
        "colab": {
          "base_uri": "https://localhost:8080/",
          "height": 204
        },
        "id": "9KkNMemscj0O",
        "outputId": "2bc93a49-1743-4ad6-9cec-e16395074565"
      },
      "outputs": [
        {
          "output_type": "execute_result",
          "data": {
            "text/plain": [
              "   Ping (ms) Download (Mbit/s) Upload (Mbit/s)             Datetime\n",
              "0  b'10.159'        b'1838.33'       b'770.47'  2025-02-21 12:41:33\n",
              "1   b'7.587'        b'1792.44'       b'792.21'  2025-02-21 12:41:38\n",
              "2   b'7.851'        b'1915.26'       b'784.59'  2025-02-21 12:41:43\n",
              "3   b'8.571'        b'1932.23'       b'790.39'  2025-02-21 12:41:47\n",
              "4   b'8.358'        b'1971.82'       b'689.06'  2025-02-21 12:41:51"
            ],
            "text/html": [
              "\n",
              "  <div id=\"df-da56b6f8-e046-40c1-89ee-5020952ee7da\" class=\"colab-df-container\">\n",
              "    <div>\n",
              "<style scoped>\n",
              "    .dataframe tbody tr th:only-of-type {\n",
              "        vertical-align: middle;\n",
              "    }\n",
              "\n",
              "    .dataframe tbody tr th {\n",
              "        vertical-align: top;\n",
              "    }\n",
              "\n",
              "    .dataframe thead th {\n",
              "        text-align: right;\n",
              "    }\n",
              "</style>\n",
              "<table border=\"1\" class=\"dataframe\">\n",
              "  <thead>\n",
              "    <tr style=\"text-align: right;\">\n",
              "      <th></th>\n",
              "      <th>Ping (ms)</th>\n",
              "      <th>Download (Mbit/s)</th>\n",
              "      <th>Upload (Mbit/s)</th>\n",
              "      <th>Datetime</th>\n",
              "    </tr>\n",
              "  </thead>\n",
              "  <tbody>\n",
              "    <tr>\n",
              "      <th>0</th>\n",
              "      <td>b'10.159'</td>\n",
              "      <td>b'1838.33'</td>\n",
              "      <td>b'770.47'</td>\n",
              "      <td>2025-02-21 12:41:33</td>\n",
              "    </tr>\n",
              "    <tr>\n",
              "      <th>1</th>\n",
              "      <td>b'7.587'</td>\n",
              "      <td>b'1792.44'</td>\n",
              "      <td>b'792.21'</td>\n",
              "      <td>2025-02-21 12:41:38</td>\n",
              "    </tr>\n",
              "    <tr>\n",
              "      <th>2</th>\n",
              "      <td>b'7.851'</td>\n",
              "      <td>b'1915.26'</td>\n",
              "      <td>b'784.59'</td>\n",
              "      <td>2025-02-21 12:41:43</td>\n",
              "    </tr>\n",
              "    <tr>\n",
              "      <th>3</th>\n",
              "      <td>b'8.571'</td>\n",
              "      <td>b'1932.23'</td>\n",
              "      <td>b'790.39'</td>\n",
              "      <td>2025-02-21 12:41:47</td>\n",
              "    </tr>\n",
              "    <tr>\n",
              "      <th>4</th>\n",
              "      <td>b'8.358'</td>\n",
              "      <td>b'1971.82'</td>\n",
              "      <td>b'689.06'</td>\n",
              "      <td>2025-02-21 12:41:51</td>\n",
              "    </tr>\n",
              "  </tbody>\n",
              "</table>\n",
              "</div>\n",
              "    <div class=\"colab-df-buttons\">\n",
              "\n",
              "  <div class=\"colab-df-container\">\n",
              "    <button class=\"colab-df-convert\" onclick=\"convertToInteractive('df-da56b6f8-e046-40c1-89ee-5020952ee7da')\"\n",
              "            title=\"Convert this dataframe to an interactive table.\"\n",
              "            style=\"display:none;\">\n",
              "\n",
              "  <svg xmlns=\"http://www.w3.org/2000/svg\" height=\"24px\" viewBox=\"0 -960 960 960\">\n",
              "    <path d=\"M120-120v-720h720v720H120Zm60-500h600v-160H180v160Zm220 220h160v-160H400v160Zm0 220h160v-160H400v160ZM180-400h160v-160H180v160Zm440 0h160v-160H620v160ZM180-180h160v-160H180v160Zm440 0h160v-160H620v160Z\"/>\n",
              "  </svg>\n",
              "    </button>\n",
              "\n",
              "  <style>\n",
              "    .colab-df-container {\n",
              "      display:flex;\n",
              "      gap: 12px;\n",
              "    }\n",
              "\n",
              "    .colab-df-convert {\n",
              "      background-color: #E8F0FE;\n",
              "      border: none;\n",
              "      border-radius: 50%;\n",
              "      cursor: pointer;\n",
              "      display: none;\n",
              "      fill: #1967D2;\n",
              "      height: 32px;\n",
              "      padding: 0 0 0 0;\n",
              "      width: 32px;\n",
              "    }\n",
              "\n",
              "    .colab-df-convert:hover {\n",
              "      background-color: #E2EBFA;\n",
              "      box-shadow: 0px 1px 2px rgba(60, 64, 67, 0.3), 0px 1px 3px 1px rgba(60, 64, 67, 0.15);\n",
              "      fill: #174EA6;\n",
              "    }\n",
              "\n",
              "    .colab-df-buttons div {\n",
              "      margin-bottom: 4px;\n",
              "    }\n",
              "\n",
              "    [theme=dark] .colab-df-convert {\n",
              "      background-color: #3B4455;\n",
              "      fill: #D2E3FC;\n",
              "    }\n",
              "\n",
              "    [theme=dark] .colab-df-convert:hover {\n",
              "      background-color: #434B5C;\n",
              "      box-shadow: 0px 1px 3px 1px rgba(0, 0, 0, 0.15);\n",
              "      filter: drop-shadow(0px 1px 2px rgba(0, 0, 0, 0.3));\n",
              "      fill: #FFFFFF;\n",
              "    }\n",
              "  </style>\n",
              "\n",
              "    <script>\n",
              "      const buttonEl =\n",
              "        document.querySelector('#df-da56b6f8-e046-40c1-89ee-5020952ee7da button.colab-df-convert');\n",
              "      buttonEl.style.display =\n",
              "        google.colab.kernel.accessAllowed ? 'block' : 'none';\n",
              "\n",
              "      async function convertToInteractive(key) {\n",
              "        const element = document.querySelector('#df-da56b6f8-e046-40c1-89ee-5020952ee7da');\n",
              "        const dataTable =\n",
              "          await google.colab.kernel.invokeFunction('convertToInteractive',\n",
              "                                                    [key], {});\n",
              "        if (!dataTable) return;\n",
              "\n",
              "        const docLinkHtml = 'Like what you see? Visit the ' +\n",
              "          '<a target=\"_blank\" href=https://colab.research.google.com/notebooks/data_table.ipynb>data table notebook</a>'\n",
              "          + ' to learn more about interactive tables.';\n",
              "        element.innerHTML = '';\n",
              "        dataTable['output_type'] = 'display_data';\n",
              "        await google.colab.output.renderOutput(dataTable, element);\n",
              "        const docLink = document.createElement('div');\n",
              "        docLink.innerHTML = docLinkHtml;\n",
              "        element.appendChild(docLink);\n",
              "      }\n",
              "    </script>\n",
              "  </div>\n",
              "\n",
              "\n",
              "<div id=\"df-a2112081-be13-4d98-99de-91f47af82003\">\n",
              "  <button class=\"colab-df-quickchart\" onclick=\"quickchart('df-a2112081-be13-4d98-99de-91f47af82003')\"\n",
              "            title=\"Suggest charts\"\n",
              "            style=\"display:none;\">\n",
              "\n",
              "<svg xmlns=\"http://www.w3.org/2000/svg\" height=\"24px\"viewBox=\"0 0 24 24\"\n",
              "     width=\"24px\">\n",
              "    <g>\n",
              "        <path d=\"M19 3H5c-1.1 0-2 .9-2 2v14c0 1.1.9 2 2 2h14c1.1 0 2-.9 2-2V5c0-1.1-.9-2-2-2zM9 17H7v-7h2v7zm4 0h-2V7h2v10zm4 0h-2v-4h2v4z\"/>\n",
              "    </g>\n",
              "</svg>\n",
              "  </button>\n",
              "\n",
              "<style>\n",
              "  .colab-df-quickchart {\n",
              "      --bg-color: #E8F0FE;\n",
              "      --fill-color: #1967D2;\n",
              "      --hover-bg-color: #E2EBFA;\n",
              "      --hover-fill-color: #174EA6;\n",
              "      --disabled-fill-color: #AAA;\n",
              "      --disabled-bg-color: #DDD;\n",
              "  }\n",
              "\n",
              "  [theme=dark] .colab-df-quickchart {\n",
              "      --bg-color: #3B4455;\n",
              "      --fill-color: #D2E3FC;\n",
              "      --hover-bg-color: #434B5C;\n",
              "      --hover-fill-color: #FFFFFF;\n",
              "      --disabled-bg-color: #3B4455;\n",
              "      --disabled-fill-color: #666;\n",
              "  }\n",
              "\n",
              "  .colab-df-quickchart {\n",
              "    background-color: var(--bg-color);\n",
              "    border: none;\n",
              "    border-radius: 50%;\n",
              "    cursor: pointer;\n",
              "    display: none;\n",
              "    fill: var(--fill-color);\n",
              "    height: 32px;\n",
              "    padding: 0;\n",
              "    width: 32px;\n",
              "  }\n",
              "\n",
              "  .colab-df-quickchart:hover {\n",
              "    background-color: var(--hover-bg-color);\n",
              "    box-shadow: 0 1px 2px rgba(60, 64, 67, 0.3), 0 1px 3px 1px rgba(60, 64, 67, 0.15);\n",
              "    fill: var(--button-hover-fill-color);\n",
              "  }\n",
              "\n",
              "  .colab-df-quickchart-complete:disabled,\n",
              "  .colab-df-quickchart-complete:disabled:hover {\n",
              "    background-color: var(--disabled-bg-color);\n",
              "    fill: var(--disabled-fill-color);\n",
              "    box-shadow: none;\n",
              "  }\n",
              "\n",
              "  .colab-df-spinner {\n",
              "    border: 2px solid var(--fill-color);\n",
              "    border-color: transparent;\n",
              "    border-bottom-color: var(--fill-color);\n",
              "    animation:\n",
              "      spin 1s steps(1) infinite;\n",
              "  }\n",
              "\n",
              "  @keyframes spin {\n",
              "    0% {\n",
              "      border-color: transparent;\n",
              "      border-bottom-color: var(--fill-color);\n",
              "      border-left-color: var(--fill-color);\n",
              "    }\n",
              "    20% {\n",
              "      border-color: transparent;\n",
              "      border-left-color: var(--fill-color);\n",
              "      border-top-color: var(--fill-color);\n",
              "    }\n",
              "    30% {\n",
              "      border-color: transparent;\n",
              "      border-left-color: var(--fill-color);\n",
              "      border-top-color: var(--fill-color);\n",
              "      border-right-color: var(--fill-color);\n",
              "    }\n",
              "    40% {\n",
              "      border-color: transparent;\n",
              "      border-right-color: var(--fill-color);\n",
              "      border-top-color: var(--fill-color);\n",
              "    }\n",
              "    60% {\n",
              "      border-color: transparent;\n",
              "      border-right-color: var(--fill-color);\n",
              "    }\n",
              "    80% {\n",
              "      border-color: transparent;\n",
              "      border-right-color: var(--fill-color);\n",
              "      border-bottom-color: var(--fill-color);\n",
              "    }\n",
              "    90% {\n",
              "      border-color: transparent;\n",
              "      border-bottom-color: var(--fill-color);\n",
              "    }\n",
              "  }\n",
              "</style>\n",
              "\n",
              "  <script>\n",
              "    async function quickchart(key) {\n",
              "      const quickchartButtonEl =\n",
              "        document.querySelector('#' + key + ' button');\n",
              "      quickchartButtonEl.disabled = true;  // To prevent multiple clicks.\n",
              "      quickchartButtonEl.classList.add('colab-df-spinner');\n",
              "      try {\n",
              "        const charts = await google.colab.kernel.invokeFunction(\n",
              "            'suggestCharts', [key], {});\n",
              "      } catch (error) {\n",
              "        console.error('Error during call to suggestCharts:', error);\n",
              "      }\n",
              "      quickchartButtonEl.classList.remove('colab-df-spinner');\n",
              "      quickchartButtonEl.classList.add('colab-df-quickchart-complete');\n",
              "    }\n",
              "    (() => {\n",
              "      let quickchartButtonEl =\n",
              "        document.querySelector('#df-a2112081-be13-4d98-99de-91f47af82003 button');\n",
              "      quickchartButtonEl.style.display =\n",
              "        google.colab.kernel.accessAllowed ? 'block' : 'none';\n",
              "    })();\n",
              "  </script>\n",
              "</div>\n",
              "\n",
              "    </div>\n",
              "  </div>\n"
            ],
            "application/vnd.google.colaboratory.intrinsic+json": {
              "type": "dataframe",
              "variable_name": "df_compact",
              "summary": "{\n  \"name\": \"df_compact\",\n  \"rows\": 100,\n  \"fields\": [\n    {\n      \"column\": \"Ping (ms)\",\n      \"properties\": {\n        \"dtype\": \"string\",\n        \"num_unique_values\": 99,\n        \"samples\": [\n          \"b'8.258'\",\n          \"b'9.944'\",\n          \"b'9.034'\"\n        ],\n        \"semantic_type\": \"\",\n        \"description\": \"\"\n      }\n    },\n    {\n      \"column\": \"Download (Mbit/s)\",\n      \"properties\": {\n        \"dtype\": \"string\",\n        \"num_unique_values\": 100,\n        \"samples\": [\n          \"b'2002.50'\",\n          \"b'1912.14'\",\n          \"b'1932.10'\"\n        ],\n        \"semantic_type\": \"\",\n        \"description\": \"\"\n      }\n    },\n    {\n      \"column\": \"Upload (Mbit/s)\",\n      \"properties\": {\n        \"dtype\": \"string\",\n        \"num_unique_values\": 100,\n        \"samples\": [\n          \"b'726.80'\",\n          \"b'653.45'\",\n          \"b'798.41'\"\n        ],\n        \"semantic_type\": \"\",\n        \"description\": \"\"\n      }\n    },\n    {\n      \"column\": \"Datetime\",\n      \"properties\": {\n        \"dtype\": \"object\",\n        \"num_unique_values\": 100,\n        \"samples\": [\n          \"2025-02-21 12:47:57\",\n          \"2025-02-21 12:45:38\",\n          \"2025-02-21 12:46:57\"\n        ],\n        \"semantic_type\": \"\",\n        \"description\": \"\"\n      }\n    }\n  ]\n}"
            }
          },
          "metadata": {},
          "execution_count": 64
        }
      ],
      "source": [
        "# Code cell 27\n",
        "df_compact.drop(['Type A', 'Type B', 'Type C',\n",
        "         'Units A', 'Units B', 'Units C'], axis=1, inplace=True)\n",
        "df_compact.head()"
      ]
    },
    {
      "cell_type": "markdown",
      "metadata": {
        "id": "vun9MNekcj0O"
      },
      "source": [
        "In the table above, the `Datetime` field is a string. Pandas and Python offer a number of operations to work with date and time that can be very helpful.\n",
        "\n",
        "In the next step, the string in the `Datetime` column will be separated into two new columns.\n",
        "\n",
        "#### Step 4: Separate data into two columns.\n",
        "In this step, you will use Pandas to generate the columns `Date` and `Time` from the column `Datetime` and then drop the `Datetime` column.\n",
        "<p>The `lambda` function is used create two anonymous functions that extract only the date and the time from a `datetime` object, respectively. Then, use the `pandas` function `apply` to apply this function to an entire column (in practice, `apply` implicitly defines a `for` loop and passes the rows one by one to our `lambda` function). Store the result of the `apply` functions in two new columns of the `DataFrame`."
      ]
    },
    {
      "cell_type": "markdown",
      "metadata": {
        "id": "xAV7oCN7cj0O"
      },
      "source": [
        "a) Apply the `lambda` function to iterate through the data frame to split the date from the `Datetime` column."
      ]
    },
    {
      "cell_type": "code",
      "execution_count": null,
      "metadata": {
        "collapsed": true,
        "id": "KeM9xv5Lcj0O"
      },
      "outputs": [],
      "source": [
        "# Code cell 28\n",
        "df_compact['Date'] = df_compact['Datetime'].apply(lambda dt_str: pd.to_datetime(dt_str).date())"
      ]
    },
    {
      "cell_type": "markdown",
      "metadata": {
        "id": "TtFMUkl3cj0O"
      },
      "source": [
        "b) Repeat step a to split time from `Datetime` column."
      ]
    },
    {
      "cell_type": "code",
      "execution_count": null,
      "metadata": {
        "collapsed": true,
        "id": "bOLltYmQcj0O"
      },
      "outputs": [],
      "source": [
        "# Code cell 29\n",
        "# Please note, this requires an intermediate step, because of how NaT are treated by the time() function.\n",
        "# Reference: https://github.com/pandas-dev/pandas/issues/11453\n",
        "temp = df_compact['Datetime'].apply(lambda dt_str: pd.to_datetime(dt_str))\n",
        "df_compact['Time'] = temp.dt.time"
      ]
    },
    {
      "cell_type": "markdown",
      "metadata": {
        "id": "tzlr06MBcj0O"
      },
      "source": [
        "c) All the information for the `Datetime` column has now been copied to the `Date` and `Time` columnns. The `Datetime` column serves no purpose. The `Datetime` column can be dropped from the data frame.\n",
        "<p>Enter the code to drop the `Datetime` column in the cell below."
      ]
    },
    {
      "cell_type": "code",
      "execution_count": null,
      "metadata": {
        "collapsed": true,
        "id": "KI63vNaGcj0P"
      },
      "outputs": [],
      "source": [
        "# Code cell 30\n",
        "df_compact.drop(['Datetime'], axis=1, inplace=True)"
      ]
    },
    {
      "cell_type": "markdown",
      "metadata": {
        "id": "c2i_QB-Ccj0P"
      },
      "source": [
        "Enter the code to print out the first 3 rows of the data frame to verify the changes."
      ]
    },
    {
      "cell_type": "code",
      "execution_count": null,
      "metadata": {
        "collapsed": true,
        "colab": {
          "base_uri": "https://localhost:8080/",
          "height": 142
        },
        "id": "J3bH02Qmcj0P",
        "outputId": "fbd15ae6-d908-4a08-e73d-57dd5b39ea6a"
      },
      "outputs": [
        {
          "output_type": "execute_result",
          "data": {
            "text/plain": [
              "   Ping (ms) Download (Mbit/s) Upload (Mbit/s)        Date      Time\n",
              "0  b'10.159'        b'1838.33'       b'770.47'  2025-02-21  12:41:33\n",
              "1   b'7.587'        b'1792.44'       b'792.21'  2025-02-21  12:41:38\n",
              "2   b'7.851'        b'1915.26'       b'784.59'  2025-02-21  12:41:43"
            ],
            "text/html": [
              "\n",
              "  <div id=\"df-74362046-07a0-4e76-953e-d53394598649\" class=\"colab-df-container\">\n",
              "    <div>\n",
              "<style scoped>\n",
              "    .dataframe tbody tr th:only-of-type {\n",
              "        vertical-align: middle;\n",
              "    }\n",
              "\n",
              "    .dataframe tbody tr th {\n",
              "        vertical-align: top;\n",
              "    }\n",
              "\n",
              "    .dataframe thead th {\n",
              "        text-align: right;\n",
              "    }\n",
              "</style>\n",
              "<table border=\"1\" class=\"dataframe\">\n",
              "  <thead>\n",
              "    <tr style=\"text-align: right;\">\n",
              "      <th></th>\n",
              "      <th>Ping (ms)</th>\n",
              "      <th>Download (Mbit/s)</th>\n",
              "      <th>Upload (Mbit/s)</th>\n",
              "      <th>Date</th>\n",
              "      <th>Time</th>\n",
              "    </tr>\n",
              "  </thead>\n",
              "  <tbody>\n",
              "    <tr>\n",
              "      <th>0</th>\n",
              "      <td>b'10.159'</td>\n",
              "      <td>b'1838.33'</td>\n",
              "      <td>b'770.47'</td>\n",
              "      <td>2025-02-21</td>\n",
              "      <td>12:41:33</td>\n",
              "    </tr>\n",
              "    <tr>\n",
              "      <th>1</th>\n",
              "      <td>b'7.587'</td>\n",
              "      <td>b'1792.44'</td>\n",
              "      <td>b'792.21'</td>\n",
              "      <td>2025-02-21</td>\n",
              "      <td>12:41:38</td>\n",
              "    </tr>\n",
              "    <tr>\n",
              "      <th>2</th>\n",
              "      <td>b'7.851'</td>\n",
              "      <td>b'1915.26'</td>\n",
              "      <td>b'784.59'</td>\n",
              "      <td>2025-02-21</td>\n",
              "      <td>12:41:43</td>\n",
              "    </tr>\n",
              "  </tbody>\n",
              "</table>\n",
              "</div>\n",
              "    <div class=\"colab-df-buttons\">\n",
              "\n",
              "  <div class=\"colab-df-container\">\n",
              "    <button class=\"colab-df-convert\" onclick=\"convertToInteractive('df-74362046-07a0-4e76-953e-d53394598649')\"\n",
              "            title=\"Convert this dataframe to an interactive table.\"\n",
              "            style=\"display:none;\">\n",
              "\n",
              "  <svg xmlns=\"http://www.w3.org/2000/svg\" height=\"24px\" viewBox=\"0 -960 960 960\">\n",
              "    <path d=\"M120-120v-720h720v720H120Zm60-500h600v-160H180v160Zm220 220h160v-160H400v160Zm0 220h160v-160H400v160ZM180-400h160v-160H180v160Zm440 0h160v-160H620v160ZM180-180h160v-160H180v160Zm440 0h160v-160H620v160Z\"/>\n",
              "  </svg>\n",
              "    </button>\n",
              "\n",
              "  <style>\n",
              "    .colab-df-container {\n",
              "      display:flex;\n",
              "      gap: 12px;\n",
              "    }\n",
              "\n",
              "    .colab-df-convert {\n",
              "      background-color: #E8F0FE;\n",
              "      border: none;\n",
              "      border-radius: 50%;\n",
              "      cursor: pointer;\n",
              "      display: none;\n",
              "      fill: #1967D2;\n",
              "      height: 32px;\n",
              "      padding: 0 0 0 0;\n",
              "      width: 32px;\n",
              "    }\n",
              "\n",
              "    .colab-df-convert:hover {\n",
              "      background-color: #E2EBFA;\n",
              "      box-shadow: 0px 1px 2px rgba(60, 64, 67, 0.3), 0px 1px 3px 1px rgba(60, 64, 67, 0.15);\n",
              "      fill: #174EA6;\n",
              "    }\n",
              "\n",
              "    .colab-df-buttons div {\n",
              "      margin-bottom: 4px;\n",
              "    }\n",
              "\n",
              "    [theme=dark] .colab-df-convert {\n",
              "      background-color: #3B4455;\n",
              "      fill: #D2E3FC;\n",
              "    }\n",
              "\n",
              "    [theme=dark] .colab-df-convert:hover {\n",
              "      background-color: #434B5C;\n",
              "      box-shadow: 0px 1px 3px 1px rgba(0, 0, 0, 0.15);\n",
              "      filter: drop-shadow(0px 1px 2px rgba(0, 0, 0, 0.3));\n",
              "      fill: #FFFFFF;\n",
              "    }\n",
              "  </style>\n",
              "\n",
              "    <script>\n",
              "      const buttonEl =\n",
              "        document.querySelector('#df-74362046-07a0-4e76-953e-d53394598649 button.colab-df-convert');\n",
              "      buttonEl.style.display =\n",
              "        google.colab.kernel.accessAllowed ? 'block' : 'none';\n",
              "\n",
              "      async function convertToInteractive(key) {\n",
              "        const element = document.querySelector('#df-74362046-07a0-4e76-953e-d53394598649');\n",
              "        const dataTable =\n",
              "          await google.colab.kernel.invokeFunction('convertToInteractive',\n",
              "                                                    [key], {});\n",
              "        if (!dataTable) return;\n",
              "\n",
              "        const docLinkHtml = 'Like what you see? Visit the ' +\n",
              "          '<a target=\"_blank\" href=https://colab.research.google.com/notebooks/data_table.ipynb>data table notebook</a>'\n",
              "          + ' to learn more about interactive tables.';\n",
              "        element.innerHTML = '';\n",
              "        dataTable['output_type'] = 'display_data';\n",
              "        await google.colab.output.renderOutput(dataTable, element);\n",
              "        const docLink = document.createElement('div');\n",
              "        docLink.innerHTML = docLinkHtml;\n",
              "        element.appendChild(docLink);\n",
              "      }\n",
              "    </script>\n",
              "  </div>\n",
              "\n",
              "\n",
              "<div id=\"df-b21eee70-c37e-4b52-9799-4b8e28b7de17\">\n",
              "  <button class=\"colab-df-quickchart\" onclick=\"quickchart('df-b21eee70-c37e-4b52-9799-4b8e28b7de17')\"\n",
              "            title=\"Suggest charts\"\n",
              "            style=\"display:none;\">\n",
              "\n",
              "<svg xmlns=\"http://www.w3.org/2000/svg\" height=\"24px\"viewBox=\"0 0 24 24\"\n",
              "     width=\"24px\">\n",
              "    <g>\n",
              "        <path d=\"M19 3H5c-1.1 0-2 .9-2 2v14c0 1.1.9 2 2 2h14c1.1 0 2-.9 2-2V5c0-1.1-.9-2-2-2zM9 17H7v-7h2v7zm4 0h-2V7h2v10zm4 0h-2v-4h2v4z\"/>\n",
              "    </g>\n",
              "</svg>\n",
              "  </button>\n",
              "\n",
              "<style>\n",
              "  .colab-df-quickchart {\n",
              "      --bg-color: #E8F0FE;\n",
              "      --fill-color: #1967D2;\n",
              "      --hover-bg-color: #E2EBFA;\n",
              "      --hover-fill-color: #174EA6;\n",
              "      --disabled-fill-color: #AAA;\n",
              "      --disabled-bg-color: #DDD;\n",
              "  }\n",
              "\n",
              "  [theme=dark] .colab-df-quickchart {\n",
              "      --bg-color: #3B4455;\n",
              "      --fill-color: #D2E3FC;\n",
              "      --hover-bg-color: #434B5C;\n",
              "      --hover-fill-color: #FFFFFF;\n",
              "      --disabled-bg-color: #3B4455;\n",
              "      --disabled-fill-color: #666;\n",
              "  }\n",
              "\n",
              "  .colab-df-quickchart {\n",
              "    background-color: var(--bg-color);\n",
              "    border: none;\n",
              "    border-radius: 50%;\n",
              "    cursor: pointer;\n",
              "    display: none;\n",
              "    fill: var(--fill-color);\n",
              "    height: 32px;\n",
              "    padding: 0;\n",
              "    width: 32px;\n",
              "  }\n",
              "\n",
              "  .colab-df-quickchart:hover {\n",
              "    background-color: var(--hover-bg-color);\n",
              "    box-shadow: 0 1px 2px rgba(60, 64, 67, 0.3), 0 1px 3px 1px rgba(60, 64, 67, 0.15);\n",
              "    fill: var(--button-hover-fill-color);\n",
              "  }\n",
              "\n",
              "  .colab-df-quickchart-complete:disabled,\n",
              "  .colab-df-quickchart-complete:disabled:hover {\n",
              "    background-color: var(--disabled-bg-color);\n",
              "    fill: var(--disabled-fill-color);\n",
              "    box-shadow: none;\n",
              "  }\n",
              "\n",
              "  .colab-df-spinner {\n",
              "    border: 2px solid var(--fill-color);\n",
              "    border-color: transparent;\n",
              "    border-bottom-color: var(--fill-color);\n",
              "    animation:\n",
              "      spin 1s steps(1) infinite;\n",
              "  }\n",
              "\n",
              "  @keyframes spin {\n",
              "    0% {\n",
              "      border-color: transparent;\n",
              "      border-bottom-color: var(--fill-color);\n",
              "      border-left-color: var(--fill-color);\n",
              "    }\n",
              "    20% {\n",
              "      border-color: transparent;\n",
              "      border-left-color: var(--fill-color);\n",
              "      border-top-color: var(--fill-color);\n",
              "    }\n",
              "    30% {\n",
              "      border-color: transparent;\n",
              "      border-left-color: var(--fill-color);\n",
              "      border-top-color: var(--fill-color);\n",
              "      border-right-color: var(--fill-color);\n",
              "    }\n",
              "    40% {\n",
              "      border-color: transparent;\n",
              "      border-right-color: var(--fill-color);\n",
              "      border-top-color: var(--fill-color);\n",
              "    }\n",
              "    60% {\n",
              "      border-color: transparent;\n",
              "      border-right-color: var(--fill-color);\n",
              "    }\n",
              "    80% {\n",
              "      border-color: transparent;\n",
              "      border-right-color: var(--fill-color);\n",
              "      border-bottom-color: var(--fill-color);\n",
              "    }\n",
              "    90% {\n",
              "      border-color: transparent;\n",
              "      border-bottom-color: var(--fill-color);\n",
              "    }\n",
              "  }\n",
              "</style>\n",
              "\n",
              "  <script>\n",
              "    async function quickchart(key) {\n",
              "      const quickchartButtonEl =\n",
              "        document.querySelector('#' + key + ' button');\n",
              "      quickchartButtonEl.disabled = true;  // To prevent multiple clicks.\n",
              "      quickchartButtonEl.classList.add('colab-df-spinner');\n",
              "      try {\n",
              "        const charts = await google.colab.kernel.invokeFunction(\n",
              "            'suggestCharts', [key], {});\n",
              "      } catch (error) {\n",
              "        console.error('Error during call to suggestCharts:', error);\n",
              "      }\n",
              "      quickchartButtonEl.classList.remove('colab-df-spinner');\n",
              "      quickchartButtonEl.classList.add('colab-df-quickchart-complete');\n",
              "    }\n",
              "    (() => {\n",
              "      let quickchartButtonEl =\n",
              "        document.querySelector('#df-b21eee70-c37e-4b52-9799-4b8e28b7de17 button');\n",
              "      quickchartButtonEl.style.display =\n",
              "        google.colab.kernel.accessAllowed ? 'block' : 'none';\n",
              "    })();\n",
              "  </script>\n",
              "</div>\n",
              "\n",
              "    </div>\n",
              "  </div>\n"
            ],
            "application/vnd.google.colaboratory.intrinsic+json": {
              "type": "dataframe",
              "variable_name": "df_compact",
              "summary": "{\n  \"name\": \"df_compact\",\n  \"rows\": 100,\n  \"fields\": [\n    {\n      \"column\": \"Ping (ms)\",\n      \"properties\": {\n        \"dtype\": \"string\",\n        \"num_unique_values\": 99,\n        \"samples\": [\n          \"b'8.258'\",\n          \"b'9.944'\",\n          \"b'9.034'\"\n        ],\n        \"semantic_type\": \"\",\n        \"description\": \"\"\n      }\n    },\n    {\n      \"column\": \"Download (Mbit/s)\",\n      \"properties\": {\n        \"dtype\": \"string\",\n        \"num_unique_values\": 100,\n        \"samples\": [\n          \"b'2002.50'\",\n          \"b'1912.14'\",\n          \"b'1932.10'\"\n        ],\n        \"semantic_type\": \"\",\n        \"description\": \"\"\n      }\n    },\n    {\n      \"column\": \"Upload (Mbit/s)\",\n      \"properties\": {\n        \"dtype\": \"string\",\n        \"num_unique_values\": 100,\n        \"samples\": [\n          \"b'726.80'\",\n          \"b'653.45'\",\n          \"b'798.41'\"\n        ],\n        \"semantic_type\": \"\",\n        \"description\": \"\"\n      }\n    },\n    {\n      \"column\": \"Date\",\n      \"properties\": {\n        \"dtype\": \"date\",\n        \"min\": \"2025-02-21\",\n        \"max\": \"2025-02-21\",\n        \"num_unique_values\": 1,\n        \"samples\": [\n          \"2025-02-21\"\n        ],\n        \"semantic_type\": \"\",\n        \"description\": \"\"\n      }\n    },\n    {\n      \"column\": \"Time\",\n      \"properties\": {\n        \"dtype\": \"string\",\n        \"num_unique_values\": 100,\n        \"samples\": [\n          \"12:47:57\"\n        ],\n        \"semantic_type\": \"\",\n        \"description\": \"\"\n      }\n    }\n  ]\n}"
            }
          },
          "metadata": {},
          "execution_count": 56
        }
      ],
      "source": [
        "# Code cell 31\n",
        "df_compact.head(3)"
      ]
    },
    {
      "cell_type": "markdown",
      "metadata": {
        "id": "dhF-hvovcj0P"
      },
      "source": [
        "d) Use the `type` function to print out the variable type of the values in the `Date` and `Time` columns."
      ]
    },
    {
      "cell_type": "code",
      "execution_count": null,
      "metadata": {
        "collapsed": true,
        "colab": {
          "base_uri": "https://localhost:8080/"
        },
        "id": "AVjdBjs9cj0P",
        "outputId": "0f20fb89-e93a-49b0-a3fc-9724ae49d076"
      },
      "outputs": [
        {
          "output_type": "stream",
          "name": "stdout",
          "text": [
            "2025-02-21 <class 'datetime.date'>\n",
            "12:41:33 <class 'datetime.time'>\n"
          ]
        }
      ],
      "source": [
        "# Code cell 32\n",
        "print(df_compact['Date'][0], type(df_compact['Date'][0]) )\n",
        "print(df_compact['Time'][0], type(df_compact['Time'][0]) )"
      ]
    },
    {
      "cell_type": "markdown",
      "metadata": {
        "id": "qKFhEcBpcj0P"
      },
      "source": [
        "#### Step 5: Save the new data frame.\n",
        "Save the pandas dataframe `df_compact` as a csv file called `rpi_data_compact`:"
      ]
    },
    {
      "cell_type": "code",
      "execution_count": null,
      "metadata": {
        "collapsed": true,
        "id": "NqMzn4wncj0P"
      },
      "outputs": [],
      "source": [
        "# Code cell 33\n",
        "df_compact.to_csv('./Data/rpi_data_compact.csv')"
      ]
    },
    {
      "cell_type": "markdown",
      "source": [
        "Контрольные вопросы\n",
        "1. Что такое анонимная функция Python, как она работает\n",
        "2. Что возвращает функция speedtest ()? Какой код используется для просмотра\n",
        "результатов функции speedtest ()?\n",
        "3. Каким образом выполняется переименование столбцов датафрейма?\n",
        "4. Для чего в лабораторной работе импортируется библиотека NumPy?\n",
        "5. Как выглядит код удаления столбца Datetime?\n",
        "\n",
        "Ответы на вопросы:\n",
        "1. Анонимная функция (lambda) – функция без имени, которая создаётся в процессе выполнения программы, не требует дополнительного пространства для её хранения, пока она не создана. Позволяет передать callback напрямую в метод без создания дополнительных функций, даёт возможность быстро провести обработку в конкретном месте, ей доступны все глобальные переменные и локальные в контексте её действия.\n",
        "2. speedtest() возвращает результаты выполнения команды `speedtest-cli --simple` и datetime.\n",
        "3. Переименование столбцов датафрейма выполняется при помощи вызова функции `df.rename(columns={'A': 'B'}, inplace=True)` на объекте датафрейма.\n",
        "4. Библиотека NumPy используется с целью добавления поддержки обработки крупных многомерных массивов и матриц, математических функций высокого уровня работы с этими массивами и матрицами\n",
        "5. `df_compact.drop(['Datetime'], axis=1, inplace=True)`"
      ],
      "metadata": {
        "id": "0Qlbi_Bg1S3z"
      }
    },
    {
      "cell_type": "markdown",
      "metadata": {
        "id": "Zx-NDmbTcj0P"
      },
      "source": [
        "<font size='0.5'>&copy; 2017 Cisco and/or its affiliates. All rights reserved. This document is Cisco Public.<font>"
      ]
    }
  ],
  "metadata": {
    "anaconda-cloud": {},
    "kernelspec": {
      "display_name": "Python 3",
      "language": "python",
      "name": "python3"
    },
    "language_info": {
      "codemirror_mode": {
        "name": "ipython",
        "version": 3
      },
      "file_extension": ".py",
      "mimetype": "text/x-python",
      "name": "python",
      "nbconvert_exporter": "python",
      "pygments_lexer": "ipython3",
      "version": "3.6.0"
    },
    "colab": {
      "provenance": [],
      "include_colab_link": true
    }
  },
  "nbformat": 4,
  "nbformat_minor": 0
}